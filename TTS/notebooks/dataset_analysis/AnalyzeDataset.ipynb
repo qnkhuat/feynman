{
 "cells": [
  {
   "cell_type": "code",
   "execution_count": 1,
   "metadata": {
    "heading_collapsed": "false",
    "tags": []
   },
   "outputs": [],
   "source": [
    "TTS_PATH = \"../../\""
   ]
  },
  {
   "cell_type": "code",
   "execution_count": 2,
   "metadata": {
    "heading_collapsed": "false"
   },
   "outputs": [],
   "source": [
    "import os\n",
    "import sys\n",
    "# sys.path.append(TTS_PATH) # set this if TTS is not installed globally\n",
    "import glob\n",
    "import librosa\n",
    "import numpy as np\n",
    "import pandas as pd\n",
    "from scipy.stats import norm\n",
    "from tqdm import tqdm_notebook as tqdm\n",
    "from multiprocessing import Pool\n",
    "from matplotlib import pylab as plt\n",
    "from collections import Counter\n",
    "from TTS.tts.datasets.preprocess import *\n",
    "%matplotlib inline"
   ]
  },
  {
   "cell_type": "code",
   "execution_count": 3,
   "metadata": {},
   "outputs": [
    {
     "name": "stdout",
     "output_type": "stream",
     "text": [
      "LJ001-0001|Printing, in the only sense with which we are at present concerned, differs from most if not from all the arts and crafts represented in the Exhibition|Printing, in the only sense with which we are at present concerned, differs from most if not from all the arts and crafts represented in the Exhibition\n",
      "LJ001-0002|in being comparatively modern.|in being comparatively modern.\n",
      "LJ001-0003|For although the Chinese took impressions from wood blocks engraved in relief for centuries before the woodcutters of the Netherlands, by a similar process|For although the Chinese took impressions from wood blocks engraved in relief for centuries before the woodcutters of the Netherlands, by a similar process\n",
      "LJ001-0004|produced the block books, which were the immediate predecessors of the true printed book,|produced the block books, which were the immediate predecessors of the true printed book,\n",
      "LJ001-0005|the invention of movable metal letters in the middle of the fifteenth century may justly be considered as the invention of the art of printing.|the invention of movable metal letters in the middle of the fifteenth century may justly be considered as the invention of the art of printing.\n",
      "LJ001-0006|And it is worth mention in passing that, as an example of fine typography,|And it is worth mention in passing that, as an example of fine typography,\n",
      "LJ001-0007|the earliest book printed with movable types, the Gutenberg, or \"forty-two line Bible\" of about 1455,|the earliest book printed with movable types, the Gutenberg, or \"forty-two line Bible\" of about fourteen fifty-five,\n",
      "LJ001-0008|has never been surpassed.|has never been surpassed.\n",
      "LJ001-0009|Printing, then, for our purpose, may be considered as the art of making books by means of movable types.|Printing, then, for our purpose, may be considered as the art of making books by means of movable types.\n",
      "LJ001-0010|Now, as all books not primarily intended as picture-books consist principally of types composed to form letterpress,|Now, as all books not primarily intended as picture-books consist principally of types composed to form letterpress,\n"
     ]
    }
   ],
   "source": [
    "! head ../../../datasets/LJSpeech-1.1/metadata.csv"
   ]
  },
  {
   "cell_type": "code",
   "execution_count": 4,
   "metadata": {
    "heading_collapsed": "false"
   },
   "outputs": [],
   "source": [
    "DATA_PATH = \"../../../freynman/data/downloaded/cut_wavs\"\n",
    "NUM_PROC = 1 # num of workers"
   ]
  },
  {
   "cell_type": "code",
   "execution_count": 5,
   "metadata": {},
   "outputs": [
    {
     "name": "stdout",
     "output_type": "stream",
     "text": [
      "\u001b[1m\u001b[36mprobability_and_uncertainty\u001b[m\u001b[m\n",
      "\u001b[1m\u001b[36mseeking_new_laws\u001b[m\u001b[m\n",
      "\u001b[1m\u001b[36msymmetry_in_physical_law\u001b[m\u001b[m\n",
      "\u001b[1m\u001b[36mthe_distiction_of_past_and_future\u001b[m\u001b[m\n",
      "\u001b[1m\u001b[36mthe_great_conservation_principles\u001b[m\u001b[m\n",
      "\u001b[1m\u001b[36mthe_law_of_gravitation_an_example_of_physical_law\u001b[m\u001b[m\n",
      "\u001b[1m\u001b[36mthe_relation_of_mathematics_and_physics\u001b[m\u001b[m\n"
     ]
    }
   ],
   "source": [
    "! ls ../../../freynman/data/downloaded/cut_wavs"
   ]
  },
  {
   "cell_type": "code",
   "execution_count": 6,
   "metadata": {},
   "outputs": [
    {
     "data": {
      "text/plain": [
       "['the_great_conservation_principles',\n",
       " 'the_law_of_gravitation_an_example_of_physical_law',\n",
       " 'the_distiction_of_past_and_future',\n",
       " 'symmetry_in_physical_law',\n",
       " 'probability_and_uncertainty',\n",
       " 'seeking_new_laws',\n",
       " 'the_relation_of_mathematics_and_physics']"
      ]
     },
     "execution_count": 6,
     "metadata": {},
     "output_type": "execute_result"
    }
   ],
   "source": [
    "os.listdir(\"../../../freynman/data/downloaded/cut_wavs\")"
   ]
  },
  {
   "cell_type": "code",
   "execution_count": 7,
   "metadata": {},
   "outputs": [],
   "source": [
    "def feynman(root, metadata=None):\n",
    "    audio_list = os.listdir(root)\n",
    "    items = []\n",
    "    speaker_name = \"feynman\"\n",
    "    for path in audio_list:\n",
    "        if not os.path.isdir(os.path.join(root, path)):\n",
    "            continue\n",
    "        df_meta = pd.read_csv(os.path.join(root, path, \"metadata.csv\"))\n",
    "        for i, row in df_meta.iterrows():\n",
    "            audio_path = os.path.join(root, path, row['path'])\n",
    "            items.append([row['sub'], audio_path, speaker_name])\n",
    "        \n",
    "    return items    "
   ]
  },
  {
   "cell_type": "code",
   "execution_count": 8,
   "metadata": {
    "heading_collapsed": "false"
   },
   "outputs": [
    {
     "name": "stdout",
     "output_type": "stream",
     "text": [
      " > Number of audio files: 5135\n"
     ]
    }
   ],
   "source": [
    "# use your own preprocessor at this stage - TTS/datasets/proprocess.py\n",
    "items = feynman(\"../../../freynman/data/downloaded/cut_wavs\")\n",
    "print(\" > Number of audio files: {}\".format(len(items)))"
   ]
  },
  {
   "cell_type": "code",
   "execution_count": 9,
   "metadata": {
    "heading_collapsed": "false"
   },
   "outputs": [],
   "source": [
    "# check wavs if exist\n",
    "wav_files = []\n",
    "for item in items:\n",
    "    wav_file = item[1].strip()\n",
    "    wav_files.append(wav_file)\n",
    "    if not os.path.exists(wav_file):\n",
    "        print(waf_path)"
   ]
  },
  {
   "cell_type": "code",
   "execution_count": 10,
   "metadata": {
    "heading_collapsed": "false"
   },
   "outputs": [
    {
     "name": "stdout",
     "output_type": "stream",
     "text": [
      "[]\n"
     ]
    }
   ],
   "source": [
    "# show duplicate items\n",
    "c = Counter(wav_files)\n",
    "print([item for item, count in c.items() if count > 1])"
   ]
  },
  {
   "cell_type": "code",
   "execution_count": 11,
   "metadata": {
    "heading_collapsed": "false"
   },
   "outputs": [
    {
     "name": "stderr",
     "output_type": "stream",
     "text": [
      "100%|██████████| 5135/5135 [00:22<00:00, 225.94it/s]\n"
     ]
    }
   ],
   "source": [
    "def load_item(item):\n",
    "    file_name = item[1].strip()\n",
    "    text = item[0].strip()\n",
    "    audio = librosa.load(file_name, sr=None)\n",
    "    sr = audio[1]\n",
    "    audio = audio[0]\n",
    "    audio_len = len(audio) / sr\n",
    "    text_len = len(text)\n",
    "    return file_name, text, text_len, audio, audio_len\n",
    "\n",
    "# This will take a while depending on size of dataset\n",
    "if NUM_PROC == 1:\n",
    "    data = []\n",
    "    for m in tqdm(items):\n",
    "        data += [load_item(m)]\n",
    "else:\n",
    "    with Pool(NUM_PROC) as p:\n",
    "        data = list(tqdm(p.imap(load_item, items), total=len(items)))"
   ]
  },
  {
   "cell_type": "code",
   "execution_count": 12,
   "metadata": {
    "heading_collapsed": "false"
   },
   "outputs": [
    {
     "name": "stderr",
     "output_type": "stream",
     "text": [
      "100%|██████████| 5135/5135 [00:00<00:00, 62472.45it/s]"
     ]
    },
    {
     "name": "stdout",
     "output_type": "stream",
     "text": [
      " > Number of words: 7875\n"
     ]
    },
    {
     "name": "stderr",
     "output_type": "stream",
     "text": [
      "\n"
     ]
    }
   ],
   "source": [
    "# count words in the dataset\n",
    "w_count = Counter()\n",
    "for item in tqdm(data):\n",
    "    text = item[1].lower().strip()\n",
    "    for word in text.split():\n",
    "        w_count[word] += 1\n",
    "print(\" > Number of words: {}\".format(len(w_count)))"
   ]
  },
  {
   "cell_type": "code",
   "execution_count": 13,
   "metadata": {
    "heading_collapsed": "false"
   },
   "outputs": [
    {
     "name": "stderr",
     "output_type": "stream",
     "text": [
      "100%|██████████| 5135/5135 [00:00<00:00, 590237.08it/s]\n"
     ]
    }
   ],
   "source": [
    "text_vs_durs = {}  # text length vs audio duration\n",
    "text_len_counter = Counter()  # number of sentences with the keyed length\n",
    "for item in tqdm(data):\n",
    "    text = item[1].lower().strip()\n",
    "    text_len = len(text)\n",
    "    text_len_counter[text_len] += 1\n",
    "    audio_len = item[-1]\n",
    "    try:\n",
    "        text_vs_durs[text_len] += [audio_len]\n",
    "    except:\n",
    "        text_vs_durs[text_len] = [audio_len]"
   ]
  },
  {
   "cell_type": "code",
   "execution_count": 14,
   "metadata": {
    "heading_collapsed": "false"
   },
   "outputs": [],
   "source": [
    "# text_len vs avg_audio_len, median_audio_len, std_audio_len\n",
    "text_vs_avg = {}\n",
    "text_vs_median = {}\n",
    "text_vs_std = {}\n",
    "for key, durs in text_vs_durs.items():\n",
    "    text_vs_avg[key] = np.mean(durs)\n",
    "    text_vs_median[key] = np.median(durs)\n",
    "    text_vs_std[key] = np.std(durs)"
   ]
  },
  {
   "cell_type": "markdown",
   "metadata": {
    "heading_collapsed": "true",
    "tags": []
   },
   "source": [
    "### Avg audio length per char"
   ]
  },
  {
   "cell_type": "code",
   "execution_count": 15,
   "metadata": {
    "heading_collapsed": "false"
   },
   "outputs": [
    {
     "name": "stdout",
     "output_type": "stream",
     "text": [
      "('../../../freynman/data/downloaded/cut_wavs/the_great_conservation_principles/code_name_315096.0_316846.0.wav', 'I’ll mention one or two of those.', 33, array([-0.00111389, -0.00137329, -0.0015564 , ...,  0.00048828,\n",
      "        0.00039673,  0.00030518], dtype=float32), 1.75)\n",
      "('../../../freynman/data/downloaded/cut_wavs/the_great_conservation_principles/code_name_508936.0_510496.0.wav', 'and I start with the one about charge', 37, array([ 1.5869141e-03,  1.5563965e-03,  1.4648438e-03, ...,\n",
      "        6.2561035e-04,  6.1035156e-05, -5.6457520e-04], dtype=float32), 1.56)\n",
      "('../../../freynman/data/downloaded/cut_wavs/the_great_conservation_principles/code_name_518496.0_520376.0.wav', 'So that’s the first.', 20, array([0.0005188 , 0.00057983, 0.00073242, ..., 0.00061035, 0.00064087,\n",
      "       0.00057983], dtype=float32), 1.88)\n",
      "('../../../freynman/data/downloaded/cut_wavs/the_great_conservation_principles/code_name_590136.0_591946.0.wav', 'but light comes out.', 20, array([ 0.0274353 ,  0.02783203,  0.02832031, ..., -0.00015259,\n",
      "       -0.00012207, -0.00012207], dtype=float32), 1.81)\n",
      "('../../../freynman/data/downloaded/cut_wavs/the_great_conservation_principles/code_name_677486.0_679046.0.wav', 'in the box, and just stays in the box.', 38, array([0.00791931, 0.00692749, 0.00588989, ..., 0.00073242, 0.00091553,\n",
      "       0.00100708], dtype=float32), 1.56)\n",
      "('../../../freynman/data/downloaded/cut_wavs/the_great_conservation_principles/code_name_720846.0_722246.0.wav', 'that charge is locally conserved.', 33, array([-0.00068665, -0.00067139, -0.0007019 , ...,  0.00149536,\n",
      "        0.0015564 ,  0.00152588], dtype=float32), 1.4)\n",
      "('../../../freynman/data/downloaded/cut_wavs/the_great_conservation_principles/code_name_722246.0_724016.0.wav', '(It is true.)', 13, array([0.00143433, 0.00126648, 0.00115967, ..., 0.00088501, 0.00067139,\n",
      "       0.00045776], dtype=float32), 1.77)\n",
      "('../../../freynman/data/downloaded/cut_wavs/the_great_conservation_principles/code_name_741976.0_743646.0.wav', 'which is fundamentally due to Einstein,', 39, array([-0.00032043, -0.00030518, -0.00036621, ..., -0.00445557,\n",
      "       -0.00440979, -0.00428772], dtype=float32), 1.67)\n",
      "('../../../freynman/data/downloaded/cut_wavs/the_great_conservation_principles/code_name_867286.0_869026.0.wav', 'that when it disappears there’s the flash,', 42, array([0.00810242, 0.01002502, 0.01187134, ..., 0.00259399, 0.00253296,\n",
      "       0.00239563], dtype=float32), 1.74)\n",
      "('../../../freynman/data/downloaded/cut_wavs/the_great_conservation_principles/code_name_894986.0_896266.0.wav', 'because he’s moving away from the light [at B].', 47, array([-0.00067139, -0.00048828, -0.00035095, ...,  0.0045166 ,\n",
      "        0.00437927,  0.00431824], dtype=float32), 1.28)\n",
      "('../../../freynman/data/downloaded/cut_wavs/the_great_conservation_principles/code_name_915946.0_917576.0.wav', '#So the other fellow says, \"Yeah, but you’re moving.\"', 53, array([ 1.7395020e-03,  1.5563965e-03,  1.2969971e-03, ...,\n",
      "        3.2043457e-04, -9.1552734e-05, -5.4931641e-04], dtype=float32), 1.63)\n",
      "('../../../freynman/data/downloaded/cut_wavs/the_great_conservation_principles/code_name_1057916.0_1059306.0.wav', '#Are there other examples?', 26, array([3.6621094e-04, 3.6621094e-04, 3.3569336e-04, ..., 3.0517578e-05,\n",
      "       2.1362305e-04, 3.5095215e-04], dtype=float32), 1.39)\n",
      "('../../../freynman/data/downloaded/cut_wavs/the_great_conservation_principles/code_name_1059306.0_1060606.0.wav', '#There are many conservation laws.', 34, array([ 0.0005188 ,  0.00064087,  0.00067139, ..., -0.04360962,\n",
      "       -0.0423584 , -0.04101562], dtype=float32), 1.3)\n",
      "('../../../freynman/data/downloaded/cut_wavs/the_great_conservation_principles/code_name_1245546.0_1247216.0.wav', 'when the particles are present.)', 32, array([0.00900269, 0.01275635, 0.01689148, ..., 0.00056458, 0.00073242,\n",
      "       0.00080872], dtype=float32), 1.67)\n",
      "('../../../freynman/data/downloaded/cut_wavs/the_great_conservation_principles/code_name_1321116.0_1322686.0.wav', 'to time of the same nature as counting.', 39, array([-0.02749634, -0.0276947 , -0.02789307, ..., -0.00888062,\n",
      "       -0.00942993, -0.01000977], dtype=float32), 1.57)\n",
      "('../../../freynman/data/downloaded/cut_wavs/the_great_conservation_principles/code_name_1482956.0_1484796.0.wav', 'So she says, \"I’m going to open the box.\"', 41, array([ 0.00091553,  0.00094604,  0.00100708, ..., -0.00170898,\n",
      "       -0.00177002, -0.00198364], dtype=float32), 1.84)\n",
      "('../../../freynman/data/downloaded/cut_wavs/the_great_conservation_principles/code_name_1488116.0_1489216.0.wav', 'How can she tell?', 17, array([-4.4250488e-04, -5.4931641e-04, -6.4086914e-04, ...,\n",
      "        3.6621094e-04,  1.0681152e-04, -6.1035156e-05], dtype=float32), 1.1)\n",
      "('../../../freynman/data/downloaded/cut_wavs/the_great_conservation_principles/code_name_1653676.0_1654156.0.wav', 'than that.', 10, array([ 0.00140381,  0.00137329,  0.0012207 , ..., -0.00105286,\n",
      "        0.00019836,  0.00180054], dtype=float32), 0.48)\n",
      "('../../../freynman/data/downloaded/cut_wavs/the_great_conservation_principles/code_name_1701776.0_1703746.0.wav', 'that we’re not completely ignorant about the thing,', 51, array([-0.00686646, -0.00808716, -0.00946045, ...,  0.02600098,\n",
      "        0.02642822,  0.02674866], dtype=float32), 1.97)\n",
      "('../../../freynman/data/downloaded/cut_wavs/the_great_conservation_principles/code_name_1725736.0_1727516.0.wav', 'that means that some other quantity has to change.', 50, array([-0.01477051, -0.01509094, -0.01544189, ...,  0.00073242,\n",
      "        0.00079346,  0.0007019 ], dtype=float32), 1.78)\n",
      "('../../../freynman/data/downloaded/cut_wavs/the_great_conservation_principles/code_name_1826156.0_1827746.0.wav', 'what) some certain things have to happen.', 41, array([-0.048172  , -0.04737854, -0.04638672, ..., -0.00523376,\n",
      "       -0.00498962, -0.00462341], dtype=float32), 1.59)\n",
      "('../../../freynman/data/downloaded/cut_wavs/the_great_conservation_principles/code_name_1997706.0_1998896.0.wav', 'that’s on account of friction.', 30, array([ 0.00115967,  0.00082397,  0.00067139, ..., -0.0017395 ,\n",
      "       -0.00167847, -0.00167847], dtype=float32), 1.19)\n",
      "('../../../freynman/data/downloaded/cut_wavs/the_great_conservation_principles/code_name_1998896.0_2000556.0.wav', 'But what happened to the energy of the ball?', 44, array([-0.00167847, -0.00164795, -0.00158691, ...,  0.00515747,\n",
      "        0.00512695,  0.00488281], dtype=float32), 1.66)\n",
      "('../../../freynman/data/downloaded/cut_wavs/the_great_conservation_principles/code_name_2023316.0_2025136.0.wav', 'because it’s made out of these little balls [i.e. atoms].', 57, array([-0.00378418, -0.00410461, -0.00454712, ...,  0.04318237,\n",
      "        0.0440979 ,  0.04498291], dtype=float32), 1.82)\n",
      "('../../../freynman/data/downloaded/cut_wavs/the_great_conservation_principles/code_name_2041216.0_2042776.0.wav', 'and snapping that they went through.', 36, array([ 0.02163696,  0.01997375,  0.01818848, ..., -0.00393677,\n",
      "       -0.00416565, -0.00440979], dtype=float32), 1.56)\n",
      "('../../../freynman/data/downloaded/cut_wavs/the_great_conservation_principles/code_name_2083985.9999999998_2085585.9999999998.wav', 'and you find out how much heat is generated,', 44, array([ 0.00035095,  0.00035095,  0.00032043, ..., -0.00636292,\n",
      "       -0.00613403, -0.00576782], dtype=float32), 1.6)\n",
      "('../../../freynman/data/downloaded/cut_wavs/the_great_conservation_principles/code_name_2153996.0_2155946.0.wav', 'so I’ll give you something to get them on.', 42, array([-0.02664185, -0.02633667, -0.02606201, ..., -0.00128174,\n",
      "       -0.00140381, -0.00158691], dtype=float32), 1.95)\n",
      "('../../../freynman/data/downloaded/cut_wavs/the_great_conservation_principles/code_name_2218546.0_2220526.0.wav', 'with degrees Kelvin for measuring energy,', 41, array([-0.00210571, -0.00186157, -0.00167847, ...,  0.05810547,\n",
      "        0.05335999,  0.04872131], dtype=float32), 1.98)\n",
      "('../../../freynman/data/downloaded/cut_wavs/the_great_conservation_principles/code_name_2291966.0_2293736.0.wav', 'Is it a different condition gravitationally?', 44, array([-0.09188843, -0.08981323, -0.08787537, ...,  0.03942871,\n",
      "        0.04103088,  0.04272461], dtype=float32), 1.77)\n",
      "('../../../freynman/data/downloaded/cut_wavs/the_great_conservation_principles/code_name_2299096.0_2300126.0.wav', '#Nobody knows.', 14, array([-0.00143433, -0.00164795, -0.00164795, ...,  0.00099182,\n",
      "        0.0010376 ,  0.00093079], dtype=float32), 1.03)\n",
      "('../../../freynman/data/downloaded/cut_wavs/the_great_conservation_principles/code_name_2343656.0_2344886.0.wav', '#Two possibilities existed.', 27, array([-0.00086975, -0.00071716, -0.00064087, ..., -0.00154114,\n",
      "       -0.00115967, -0.00088501], dtype=float32), 1.23)\n",
      "('../../../freynman/data/downloaded/cut_wavs/the_great_conservation_principles/code_name_2386246.0_2387406.0.wav', '#That illustrates a point.', 26, array([ 0.00384521,  0.00369263,  0.00341797, ..., -0.00463867,\n",
      "       -0.00442505, -0.00418091], dtype=float32), 1.16)\n",
      "('../../../freynman/data/downloaded/cut_wavs/the_great_conservation_principles/code_name_2402776.0_2404166.0.wav', 'Every once in a while you read in the paper', 43, array([ 0.01622009,  0.01847839,  0.02082825, ..., -0.00105286,\n",
      "       -0.00111389, -0.00140381], dtype=float32), 1.39)\n",
      "('../../../freynman/data/downloaded/cut_wavs/the_great_conservation_principles/code_name_2439366.0_2440886.0.wav', 'means that the science is uncertain.', 36, array([0.00012207, 0.00082397, 0.0012207 , ..., 0.02348328, 0.02351379,\n",
      "       0.02346802], dtype=float32), 1.52)\n",
      "('../../../freynman/data/downloaded/cut_wavs/the_great_conservation_principles/code_name_2494916.0_2495876.0.wav', 'So you could say, \"Oh!', 22, array([-0.00045776, -0.0005188 , -0.00062561, ...,  0.00291443,\n",
      "        0.00187683,  0.00091553], dtype=float32), 0.96)\n",
      "('../../../freynman/data/downloaded/cut_wavs/the_great_conservation_principles/code_name_2527136.0_2528726.0.wav', 'but we have to take a guess.', 28, array([-0.00311279, -0.00302124, -0.00292969, ...,  0.00086975,\n",
      "        0.00080872,  0.00080872], dtype=float32), 1.59)\n",
      "('../../../freynman/data/downloaded/cut_wavs/the_great_conservation_principles/code_name_2591946.0_2593146.0.wav', 'in the sense that they are numbers.', 35, array([-0.02093506, -0.02055359, -0.02008057, ...,  0.00209045,\n",
      "        0.00233459,  0.00254822], dtype=float32), 1.2)\n",
      "('../../../freynman/data/downloaded/cut_wavs/the_great_conservation_principles/code_name_2833886.0_2835796.0.wav', 'if you come at a small angle.', 29, array([-0.01324463, -0.0135498 , -0.01373291, ...,  0.00215149,\n",
      "        0.0020752 ,  0.00192261], dtype=float32), 1.91)\n",
      "('../../../freynman/data/downloaded/cut_wavs/the_great_conservation_principles/code_name_2986616.0_2988136.0.wav', '#I should include it in the list', 32, array([0.00189209, 0.00209045, 0.00212097, ..., 0.00065613, 0.0010376 ,\n",
      "       0.00141907], dtype=float32), 1.52)\n",
      "('../../../freynman/data/downloaded/cut_wavs/the_great_conservation_principles/code_name_3055076.0_3056816.0.wav', 'of angular momentum, and the conservation', 41, array([-0.05357361, -0.0541687 , -0.05461121, ...,  0.04615784,\n",
      "        0.0448761 ,  0.04341125], dtype=float32), 1.74)\n",
      "('../../../freynman/data/downloaded/cut_wavs/the_great_conservation_principles/code_name_3088166.0_3089836.0.wav', 'or in the conservation of angular momentum,', 43, array([0.03485107, 0.03421021, 0.03359985, ..., 0.01683044, 0.01742554,\n",
      "       0.01812744], dtype=float32), 1.67)\n",
      "('../../../freynman/data/downloaded/cut_wavs/the_law_of_gravitation_an_example_of_physical_law/code_name_458576.0_460116.0.wav', '#What I want to talk about in this series', 41, array([0.00016785, 0.00022888, 0.00022888, ..., 0.00408936, 0.00410461,\n",
      "       0.00418091], dtype=float32), 1.54)\n",
      "('../../../freynman/data/downloaded/cut_wavs/the_law_of_gravitation_an_example_of_physical_law/code_name_556506.0_558146.0.wav', 'You might say, \"Yes, but then it’s old hat—', 43, array([0.00027466, 0.00024414, 0.00018311, ..., 0.14779663, 0.14390564,\n",
      "       0.13661194], dtype=float32), 1.64)\n",
      "('../../../freynman/data/downloaded/cut_wavs/the_law_of_gravitation_an_example_of_physical_law/code_name_753276.0_754926.0.wav', 'How fast do they move?—and so on.', 33, array([-0.00106812, -0.00119019, -0.00128174, ..., -0.01768494,\n",
      "       -0.01815796, -0.0184021 ], dtype=float32), 1.65)\n",
      "('../../../freynman/data/downloaded/cut_wavs/the_law_of_gravitation_an_example_of_physical_law/code_name_919066.0_920316.0.wav', 'does it go faster when it’s near the sun,', 41, array([ 0.03579712,  0.03196716,  0.02801514, ..., -0.06661987,\n",
      "       -0.07505798, -0.08139038], dtype=float32), 1.25)\n",
      "('../../../freynman/data/downloaded/cut_wavs/the_law_of_gravitation_an_example_of_physical_law/code_name_962186.0_964046.0.wav', 'of the planet and the two lines that are separated', 50, array([ 0.05307007,  0.05363464,  0.05419922, ..., -0.00907898,\n",
      "       -0.01106262, -0.01287842], dtype=float32), 1.86)\n",
      "('../../../freynman/data/downloaded/cut_wavs/the_law_of_gravitation_an_example_of_physical_law/code_name_967786.0_969486.0.wav', 'of the orbit the thing is on.', 29, array([ 0.00518799,  0.00648499,  0.00769043, ..., -0.00024414,\n",
      "       -0.00027466, -0.00032043], dtype=float32), 1.7)\n",
      "('../../../freynman/data/downloaded/cut_wavs/the_law_of_gravitation_an_example_of_physical_law/code_name_1047915.9999999999_1049566.0.wav', 'Or is there anything else to say?', 33, array([ 0.00022888,  0.00035095,  0.00039673, ..., -0.00050354,\n",
      "       -0.00048828, -0.00056458], dtype=float32), 1.6500208333333333)\n",
      "('../../../freynman/data/downloaded/cut_wavs/the_law_of_gravitation_an_example_of_physical_law/code_name_1171366.0_1173026.0.wav', 'How fast is the velocity changing?', 34, array([0.00285339, 0.00259399, 0.00233459, ..., 0.0118866 , 0.01199341,\n",
      "       0.01197815], dtype=float32), 1.66)\n",
      "('../../../freynman/data/downloaded/cut_wavs/the_law_of_gravitation_an_example_of_physical_law/code_name_1178236.0_1179816.0.wav', 'That’s called the acceleration.', 31, array([ 0.00085449,  0.00099182,  0.00111389, ..., -0.00177002,\n",
      "       -0.00190735, -0.0019989 ], dtype=float32), 1.58)\n",
      "('../../../freynman/data/downloaded/cut_wavs/the_law_of_gravitation_an_example_of_physical_law/code_name_1211236.0_1212926.0.wav', 'So that if we were to take two different objects—', 49, array([ 0.00296021,  0.00317383,  0.00305176, ..., -0.00021362,\n",
      "       -0.00033569, -0.00042725], dtype=float32), 1.69)\n",
      "('../../../freynman/data/downloaded/cut_wavs/the_law_of_gravitation_an_example_of_physical_law/code_name_1375756.0_1377366.0.wav', 'And the moon is attracted to the earth,', 39, array([ 0.00039673,  0.00021362,  0.00016785, ..., -0.02015686,\n",
      "       -0.02012634, -0.02009583], dtype=float32), 1.61)\n",
      "('../../../freynman/data/downloaded/cut_wavs/the_law_of_gravitation_an_example_of_physical_law/code_name_1614366.0_1616126.0.wav', 'the earth is also going in a circle.', 36, array([-0.00093079, -0.00085449, -0.00093079, ...,  0.00021362,\n",
      "        0.00019836,  0.00013733], dtype=float32), 1.76)\n",
      "('../../../freynman/data/downloaded/cut_wavs/the_law_of_gravitation_an_example_of_physical_law/code_name_1718256.0_1720016.0.wav', 'and when Jupiter is further, it takes longer time.', 50, array([-0.04548645, -0.04432678, -0.04325867, ...,  0.00790405,\n",
      "        0.00933838,  0.01077271], dtype=float32), 1.76)\n",
      "('../../../freynman/data/downloaded/cut_wavs/the_law_of_gravitation_an_example_of_physical_law/code_name_1727936.0_1729706.0.wav', 'was able to determine the velocity of light.', 44, array([0.00108337, 0.00119019, 0.00131226, ..., 0.01133728, 0.01127625,\n",
      "       0.01112366], dtype=float32), 1.77)\n",
      "('../../../freynman/data/downloaded/cut_wavs/the_law_of_gravitation_an_example_of_physical_law/code_name_1790806.0_1792736.0.wav', 'on each other—a little bit, only a little bit.', 46, array([ 0.00114441,  0.00022888, -0.00106812, ..., -0.00064087,\n",
      "       -0.00119019, -0.00169373], dtype=float32), 1.93)\n",
      "('../../../freynman/data/downloaded/cut_wavs/the_law_of_gravitation_an_example_of_physical_law/code_name_1923656.0_1925546.0.wav', 'so you can see that they’re really turning around [each other],', 63, array([ 0.00030518,  0.00021362,  0.00010681, ..., -0.00311279,\n",
      "       -0.00396729, -0.00476074], dtype=float32), 1.89)\n",
      "('../../../freynman/data/downloaded/cut_wavs/the_law_of_gravitation_an_example_of_physical_law/code_name_1995266.0_1996936.0.wav', 'How about a bigger distance?', 28, array([-0.00260925, -0.00274658, -0.00291443, ..., -0.00212097,\n",
      "       -0.0020752 , -0.0020752 ], dtype=float32), 1.67)\n",
      "('../../../freynman/data/downloaded/cut_wavs/the_law_of_gravitation_an_example_of_physical_law/code_name_2041056.0_2042426.0.wav', 'it’s perfectly clear that the thing', 35, array([-0.00032043, -0.00033569, -0.00035095, ...,  0.03222656,\n",
      "        0.03062439,  0.02929688], dtype=float32), 1.37)\n",
      "('../../../freynman/data/downloaded/cut_wavs/the_law_of_gravitation_an_example_of_physical_law/code_name_2182526.0_2184376.0.wav', 'or cluster, of galaxies.', 24, array([-0.0020752 , -0.00213623, -0.0022583 , ..., -0.00134277,\n",
      "       -0.00137329, -0.00132751], dtype=float32), 1.85)\n",
      "('../../../freynman/data/downloaded/cut_wavs/the_law_of_gravitation_an_example_of_physical_law/code_name_2214146.0_2215966.0.wav', 'as far as the universe is concerned.', 36, array([ 0.00163269,  0.00164795,  0.00167847, ..., -0.00024414,\n",
      "       -0.00033569, -0.0004425 ], dtype=float32), 1.82)\n",
      "('../../../freynman/data/downloaded/cut_wavs/the_law_of_gravitation_an_example_of_physical_law/code_name_2231076.0_2232936.0.wav', 'relatively speaking, compared to the other laws.', 48, array([0.00576782, 0.0055542 , 0.00540161, ..., 0.00958252, 0.00973511,\n",
      "       0.00976562], dtype=float32), 1.86)\n",
      "('../../../freynman/data/downloaded/cut_wavs/the_law_of_gravitation_an_example_of_physical_law/code_name_2295236.0_2296456.0.wav', 'Do I attract you?', 17, array([0.00042725, 0.00033569, 0.00036621, ..., 0.00183105, 0.0017395 ,\n",
      "       0.00164795], dtype=float32), 1.22)\n",
      "('../../../freynman/data/downloaded/cut_wavs/the_law_of_gravitation_an_example_of_physical_law/code_name_2296456.0_2298096.0.wav', 'Excuse me, I mean, do I attract you?', 36, array([ 0.00157166,  0.00146484,  0.00132751, ..., -0.00747681,\n",
      "       -0.00576782, -0.00410461], dtype=float32), 1.64)\n",
      "('../../../freynman/data/downloaded/cut_wavs/the_law_of_gravitation_an_example_of_physical_law/code_name_2301986.0_2303086.0.wav', 'I didn’t mean that.', 19, array([ 0.00028992, -0.00090027, -0.0020752 , ..., -0.00164795,\n",
      "       -0.00057983,  0.00018311], dtype=float32), 1.1)\n",
      "('../../../freynman/data/downloaded/cut_wavs/the_law_of_gravitation_an_example_of_physical_law/code_name_2454356.0_2456316.0.wav', '—Cavendish’s experiment.', 24, array([ 0.00062561,  0.00045776,  0.00039673, ..., -0.0004425 ,\n",
      "       -0.00045776, -0.00050354], dtype=float32), 1.96)\n",
      "('../../../freynman/data/downloaded/cut_wavs/the_law_of_gravitation_an_example_of_physical_law/code_name_2464136.0_2466116.0.wav', 'and then put two large lead balls', 33, array([-0.00193787, -0.00192261, -0.00187683, ...,  0.00552368,\n",
      "        0.00588989,  0.00619507], dtype=float32), 1.98)\n",
      "('../../../freynman/data/downloaded/cut_wavs/the_law_of_gravitation_an_example_of_physical_law/code_name_2481936.0_2483616.0.wav', 'And there it was.', 17, array([-0.00323486, -0.00317383, -0.00308228, ..., -0.00065613,\n",
      "       -0.00065613, -0.00064087], dtype=float32), 1.68)\n",
      "('../../../freynman/data/downloaded/cut_wavs/the_law_of_gravitation_an_example_of_physical_law/code_name_2528216.0_2530186.0.wav', 'the mass of the earth could be determined.', 42, array([-0.00282288, -0.00270081, -0.00263977, ..., -0.00169373,\n",
      "       -0.00172424, -0.00170898], dtype=float32), 1.97)\n",
      "('../../../freynman/data/downloaded/cut_wavs/the_law_of_gravitation_an_example_of_physical_law/code_name_2886776.0_2888616.0.wav', 'as a square of the distance due to gravitation.', 47, array([3.6621094e-04, 2.5939941e-04, 4.5776367e-05, ..., 1.0314941e-02,\n",
      "       1.0513306e-02, 1.0787964e-02], dtype=float32), 1.84)\n",
      "('../../../freynman/data/downloaded/cut_wavs/the_law_of_gravitation_an_example_of_physical_law/code_name_2937216.0_2938736.0.wav', 'They’re looking for a large number.', 35, array([-2.1362305e-04, -2.2888184e-04, -2.1362305e-04, ...,\n",
      "        3.0517578e-05,  1.6784668e-04,  2.4414062e-04], dtype=float32), 1.52)\n",
      "('../../../freynman/data/downloaded/cut_wavs/the_law_of_gravitation_an_example_of_physical_law/code_name_3077326.0_3078556.0.wav', 'Where does it come from and what is it?', 39, array([ 0.00140381,  0.00126648,  0.00114441, ..., -0.00369263,\n",
      "       -0.00283813, -0.00196838], dtype=float32), 1.23)\n",
      "('../../../freynman/data/downloaded/cut_wavs/the_law_of_gravitation_an_example_of_physical_law/code_name_3173486.0_3174786.0.wav', 'It’s simple in its pattern.', 27, array([-1.4495850e-03, -1.3122559e-03, -1.1138916e-03, ...,\n",
      "       -6.1035156e-05,  9.1552734e-05,  2.1362305e-04], dtype=float32), 1.3)\n",
      "('../../../freynman/data/downloaded/cut_wavs/the_distiction_of_past_and_future/code_name_297496.0_298506.0.wav', 'What happens?', 13, array([ 5.6457520e-04,  9.1552734e-05, -3.6621094e-04, ...,\n",
      "        0.0000000e+00,  1.8310547e-04,  3.3569336e-04], dtype=float32), 1.01)\n",
      "('../../../freynman/data/downloaded/cut_wavs/the_distiction_of_past_and_future/code_name_526116.0_527956.0.wav', 'the jiggling of the atoms inside.', 33, array([-0.00169373, -0.00183105, -0.00192261, ...,  0.03549194,\n",
      "        0.03800964,  0.04013062], dtype=float32), 1.84)\n",
      "('../../../freynman/data/downloaded/cut_wavs/the_distiction_of_past_and_future/code_name_561496.0_562406.0.wav', '#Wait a while.', 14, array([ 3.1600952e-02,  2.6428223e-02,  2.1179199e-02, ...,\n",
      "       -2.4414062e-04, -9.1552734e-05,  6.1035156e-05], dtype=float32), 0.91)\n",
      "('../../../freynman/data/downloaded/cut_wavs/the_distiction_of_past_and_future/code_name_587876.0_589726.0.wav', 'and put back this thing, and so on.', 35, array([0.0025177 , 0.00338745, 0.00431824, ..., 0.00418091, 0.00436401,\n",
      "       0.00442505], dtype=float32), 1.85)\n",
      "('../../../freynman/data/downloaded/cut_wavs/the_distiction_of_past_and_future/code_name_589726.0_590946.0.wav', '#While you’re doing all that, however,', 38, array([0.00436401, 0.00445557, 0.00460815, ..., 0.02676392, 0.02915955,\n",
      "       0.03179932], dtype=float32), 1.22)\n",
      "('../../../freynman/data/downloaded/cut_wavs/the_distiction_of_past_and_future/code_name_704976.0_706946.0.wav', 'and if they came that way, they would bounce this way.', 54, array([-0.01382446, -0.01271057, -0.01145935, ..., -0.00030518,\n",
      "        0.00132751,  0.0030365 ], dtype=float32), 1.97)\n",
      "('../../../freynman/data/downloaded/cut_wavs/the_distiction_of_past_and_future/code_name_892566.0_894296.0.wav', 'we don’t end with an ordered thing.', 35, array([ 0.08091736,  0.0809021 ,  0.08068848, ..., -0.00042725,\n",
      "       -0.0007782 , -0.0010376 ], dtype=float32), 1.73)\n",
      "('../../../freynman/data/downloaded/cut_wavs/the_distiction_of_past_and_future/code_name_1156506.0_1158466.0.wav', 'You say, \"Well, how long you would have to wait?\"', 49, array([0.00056458, 0.00042725, 0.00033569, ..., 0.00332642, 0.00195312,\n",
      "       0.00067139], dtype=float32), 1.96)\n",
      "('../../../freynman/data/downloaded/cut_wavs/the_distiction_of_past_and_future/code_name_1270366.0_1272296.0.wav', 'like the bones that we’ve seen before.', 38, array([ 1.5411377e-03,  7.3242188e-04, -3.0517578e-05, ...,\n",
      "        1.7700195e-03,  1.8310547e-03,  1.8005371e-03], dtype=float32), 1.93)\n",
      "('../../../freynman/data/downloaded/cut_wavs/the_distiction_of_past_and_future/code_name_1505876.0_1507756.0.wav', 'sometimes the other way.', 24, array([-6.1035156e-05,  7.6293945e-05,  2.7465820e-04, ...,\n",
      "        5.0659180e-03,  5.3405762e-03,  5.4779053e-03], dtype=float32), 1.88)\n",
      "('../../../freynman/data/downloaded/cut_wavs/the_distiction_of_past_and_future/code_name_1556336.0_1558006.0.wav', 'And in the falling down and bouncing', 36, array([0.00068665, 0.00079346, 0.00079346, ..., 0.01245117, 0.01321411,\n",
      "       0.01403809], dtype=float32), 1.67)\n",
      "('../../../freynman/data/downloaded/cut_wavs/the_distiction_of_past_and_future/code_name_1604846.0_1606496.0.wav', 'and this one was cold, the wheel', 32, array([ 0.03161621,  0.02882385,  0.02609253, ..., -0.00265503,\n",
      "       -0.00299072, -0.00326538], dtype=float32), 1.65)\n",
      "('../../../freynman/data/downloaded/cut_wavs/the_distiction_of_past_and_future/code_name_1636446.0_1637686.0.wav', 'the next thing that will happen is,', 35, array([ 0.02018738,  0.02391052,  0.02575684, ..., -0.01727295,\n",
      "       -0.01757812, -0.01777649], dtype=float32), 1.24)\n",
      "('../../../freynman/data/downloaded/cut_wavs/the_distiction_of_past_and_future/code_name_1757796.0_1759556.0.wav', 'Then you start to dry yourself, and you find', 44, array([0.00033569, 0.00028992, 0.00021362, ..., 0.05870056, 0.05905151,\n",
      "       0.05967712], dtype=float32), 1.76)\n",
      "('../../../freynman/data/downloaded/cut_wavs/the_distiction_of_past_and_future/code_name_1837886.0_1839706.0.wav', 'and you can run into the sun and get dried out,', 47, array([-0.00099182, -0.00061035, -0.00028992, ...,  0.00463867,\n",
      "        0.00706482,  0.00965881], dtype=float32), 1.82)\n",
      "('../../../freynman/data/downloaded/cut_wavs/the_distiction_of_past_and_future/code_name_1842216.0_1843876.0.wav', 'Then you got saved.', 19, array([-0.00172424, -0.00158691, -0.00146484, ..., -0.00061035,\n",
      "       -0.00059509, -0.0007019 ], dtype=float32), 1.66)\n",
      "('../../../freynman/data/downloaded/cut_wavs/the_distiction_of_past_and_future/code_name_1939586.0_1941226.0.wav', 'which says entropy is always increasing.', 40, array([-1.2771606e-02, -6.6528320e-03,  4.5776367e-05, ...,\n",
      "        1.7211914e-02,  1.7440796e-02,  1.7929077e-02], dtype=float32), 1.64)\n",
      "('../../../freynman/data/downloaded/cut_wavs/the_distiction_of_past_and_future/code_name_2110126.0_2111206.0.wav', 'of the glacier.', 15, array([0.0662384 , 0.06797791, 0.06907654, ..., 0.00286865, 0.00260925,\n",
      "       0.00234985], dtype=float32), 1.08)\n",
      "('../../../freynman/data/downloaded/cut_wavs/the_distiction_of_past_and_future/code_name_2485986.0_2487546.0.wav', 'Or \"sunspot.\"', 13, array([-0.00135803, -0.00128174, -0.00120544, ..., -0.00064087,\n",
      "       -0.00048828, -0.00045776], dtype=float32), 1.56)\n",
      "('../../../freynman/data/downloaded/cut_wavs/symmetry_in_physical_law/code_name_194726.0_196556.0.wav', 'the same.', 9, array([3.9093018e-02, 3.8558960e-02, 3.7918091e-02, ..., 1.6784668e-04,\n",
      "       4.5776367e-05, 1.5258789e-05], dtype=float32), 1.83)\n",
      "('../../../freynman/data/downloaded/cut_wavs/symmetry_in_physical_law/code_name_277086.0_278826.0.wav', 'that would have happened in the original thing.', 47, array([ 0.00744629,  0.00721741,  0.00697327, ..., -0.0065155 ,\n",
      "       -0.00421143, -0.00204468], dtype=float32), 1.74)\n",
      "('../../../freynman/data/downloaded/cut_wavs/symmetry_in_physical_law/code_name_449016.0_450936.0.wav', 'and never talks about the absolute time,', 40, array([0.00080872, 0.00085449, 0.00100708, ..., 0.0763855 , 0.07748413,\n",
      "       0.07797241], dtype=float32), 1.92)\n",
      "('../../../freynman/data/downloaded/cut_wavs/symmetry_in_physical_law/code_name_696166.0_697126.0.wav', 'Suppose I did that.', 19, array([-0.00047302, -0.0007019 , -0.00085449, ..., -0.00091553,\n",
      "       -0.00099182, -0.0010376 ], dtype=float32), 0.96)\n",
      "('../../../freynman/data/downloaded/cut_wavs/symmetry_in_physical_law/code_name_775346.0_776726.0.wav', 'in which the symmetry appears.', 30, array([0.08085632, 0.07518005, 0.07154846, ..., 0.01602173, 0.01498413,\n",
      "       0.01385498], dtype=float32), 1.38)\n",
      "('../../../freynman/data/downloaded/cut_wavs/symmetry_in_physical_law/code_name_925216.0_927196.0.wav', 'Let’s take his law of gravitation, for instance.', 48, array([0.00067139, 0.00061035, 0.00056458, ..., 0.00222778, 0.0022583 ,\n",
      "       0.00228882], dtype=float32), 1.98)\n",
      "('../../../freynman/data/downloaded/cut_wavs/symmetry_in_physical_law/code_name_1167506.0_1169316.0.wav', 'in the spaceship, but I see it’s going slow.\"', 45, array([0.01467896, 0.01359558, 0.01242065, ..., 0.02311707, 0.02479553,\n",
      "       0.02629089], dtype=float32), 1.81)\n",
      "('../../../freynman/data/downloaded/cut_wavs/symmetry_in_physical_law/code_name_1321706.0_1323546.0.wav', 'See, consider, from my point of view,', 37, array([0.00250244, 0.00256348, 0.00259399, ..., 0.05912781, 0.05537415,\n",
      "       0.05177307], dtype=float32), 1.84)\n",
      "('../../../freynman/data/downloaded/cut_wavs/symmetry_in_physical_law/code_name_1415886.0_1417596.0.wav', 'to the equations and leave them alone.', 38, array([-0.01274109, -0.01823425, -0.02363586, ...,  0.0067749 ,\n",
      "        0.0080719 ,  0.00939941], dtype=float32), 1.71)\n",
      "('../../../freynman/data/downloaded/cut_wavs/symmetry_in_physical_law/code_name_1575766.0_1577436.0.wav', 'But I can’t go into that particular thing, but I want', 53, array([-0.06417847, -0.06570435, -0.06692505, ...,  0.01100159,\n",
      "        0.01051331,  0.00976562], dtype=float32), 1.67)\n",
      "('../../../freynman/data/downloaded/cut_wavs/symmetry_in_physical_law/code_name_1648556.0_1650536.0.wav', 'the same enormous degree of detail?', 35, array([ 0.0005188 ,  0.00068665,  0.00085449, ..., -0.05497742,\n",
      "       -0.05482483, -0.05366516], dtype=float32), 1.98)\n",
      "('../../../freynman/data/downloaded/cut_wavs/symmetry_in_physical_law/code_name_1673666.0_1675566.0.wav', 'and the sticks would break even more surely.\"', 45, array([-0.00134277, -0.00138855, -0.0015564 , ..., -0.00227356,\n",
      "       -0.00212097, -0.00228882], dtype=float32), 1.9)\n",
      "('../../../freynman/data/downloaded/cut_wavs/symmetry_in_physical_law/code_name_1709686.0_1711126.0.wav', 'to support four times the weight.', 33, array([-0.02131653, -0.0211792 , -0.02081299, ...,  0.00085449,\n",
      "        0.00088501,  0.00094604], dtype=float32), 1.44)\n",
      "('../../../freynman/data/downloaded/cut_wavs/symmetry_in_physical_law/code_name_1863686.0_1864646.0.wav', 'The answer is yes.', 18, array([0.0032959 , 0.00350952, 0.00375366, ..., 0.00061035, 0.00039673,\n",
      "       0.00015259], dtype=float32), 0.96)\n",
      "('../../../freynman/data/downloaded/cut_wavs/symmetry_in_physical_law/code_name_1868246.0_1869966.0.wav', 'to the nebulae, do we see an effect?', 36, array([0.06030273, 0.0592804 , 0.05805969, ..., 0.00114441, 0.00161743,\n",
      "       0.0020752 ], dtype=float32), 1.72)\n",
      "('../../../freynman/data/downloaded/cut_wavs/symmetry_in_physical_law/code_name_1986736.0_1988546.0.wav', 'that distinguishes right and left ...', 37, array([-0.00123596, -0.00137329, -0.00137329, ..., -0.0295105 ,\n",
      "       -0.0296936 , -0.02996826], dtype=float32), 1.81)\n",
      "('../../../freynman/data/downloaded/cut_wavs/symmetry_in_physical_law/code_name_2014836.0_2016266.0.wav', 'to be the same as this one, because it’s harder', 47, array([0.02694702, 0.025177  , 0.0234375 , ..., 0.02668762, 0.02471924,\n",
      "       0.02223206], dtype=float32), 1.43)\n",
      "('../../../freynman/data/downloaded/cut_wavs/symmetry_in_physical_law/code_name_2076596.0_2078076.0.wav', 'through the water, then you’ll find ...', 39, array([-0.00354004, -0.00328064, -0.00300598, ...,  0.06843567,\n",
      "        0.06915283,  0.06956482], dtype=float32), 1.48)\n",
      "('../../../freynman/data/downloaded/cut_wavs/symmetry_in_physical_law/code_name_2114816.0_2115996.0.wav', 'hoping the light will turn this way,', 36, array([0.00161743, 0.00192261, 0.00212097, ..., 0.01730347, 0.01849365,\n",
      "       0.01934814], dtype=float32), 1.18)\n",
      "('../../../freynman/data/downloaded/cut_wavs/symmetry_in_physical_law/code_name_2128846.0_2130386.0.wav', '#It isn’t true, therefore, at first [glance],', 45, array([ 0.00747681,  0.00749207,  0.00756836, ..., -0.00584412,\n",
      "       -0.0037384 , -0.00109863], dtype=float32), 1.54)\n",
      "('../../../freynman/data/downloaded/cut_wavs/symmetry_in_physical_law/code_name_2150236.0_2151846.0.wav', 'in between), and make artificial sugar.', 39, array([-0.01135254, -0.01022339, -0.00909424, ..., -0.03741455,\n",
      "       -0.03964233, -0.04168701], dtype=float32), 1.61)\n",
      "('../../../freynman/data/downloaded/cut_wavs/symmetry_in_physical_law/code_name_2251486.0_2253316.0.wav', 'at the crystals, and separating them, ...', 41, array([0.00764465, 0.00749207, 0.00749207, ..., 0.00205994, 0.0019989 ,\n",
      "       0.00193787], dtype=float32), 1.83)\n",
      "('../../../freynman/data/downloaded/cut_wavs/symmetry_in_physical_law/code_name_2271196.0_2272506.0.wav', 'Apparently not.', 15, array([-0.00366211, -0.00378418, -0.00384521, ...,  0.00033569,\n",
      "        0.00056458,  0.00059509], dtype=float32), 1.31)\n",
      "('../../../freynman/data/downloaded/cut_wavs/symmetry_in_physical_law/code_name_2276926.0_2278906.0.wav', 'and they all have a kind of thread to them.', 43, array([-8.3923340e-04, -4.2724609e-04,  9.1552734e-05, ...,\n",
      "        2.7465820e-04,  4.1198730e-04,  5.4931641e-04], dtype=float32), 1.98)\n",
      "('../../../freynman/data/downloaded/cut_wavs/symmetry_in_physical_law/code_name_2294516.0_2296106.0.wav', 'chemically, the same thing to the left.', 39, array([-3.0517578e-05, -3.6621094e-04, -6.1035156e-04, ...,\n",
      "        1.5258789e-03,  2.4566650e-03,  2.9449463e-03], dtype=float32), 1.59)\n",
      "('../../../freynman/data/downloaded/cut_wavs/symmetry_in_physical_law/code_name_2313396.0_2315196.0.wav', '#How did they get that way?', 27, array([-0.00135803, -0.00134277, -0.00135803, ..., -0.00119019,\n",
      "       -0.00112915, -0.00108337], dtype=float32), 1.8)\n",
      "('../../../freynman/data/downloaded/cut_wavs/symmetry_in_physical_law/code_name_2349176.0_2350596.0.wav', 'to form one way instead of the other.', 37, array([-0.00244141, -0.00231934, -0.00230408, ..., -0.09284973,\n",
      "       -0.09492493, -0.09594727], dtype=float32), 1.42)\n",
      "('../../../freynman/data/downloaded/cut_wavs/symmetry_in_physical_law/code_name_2414836.0_2416406.0.wav', 'We want to tell him about things.', 33, array([ 0.00024414,  0.00027466,  0.00027466, ..., -0.00695801,\n",
      "       -0.00634766, -0.00567627], dtype=float32), 1.57)\n",
      "('../../../freynman/data/downloaded/cut_wavs/symmetry_in_physical_law/code_name_2416406.0_2418306.0.wav', 'You say, so how’s he going to understand the words, well,', 57, array([-0.00494385, -0.00418091, -0.00338745, ...,  0.04473877,\n",
      "        0.04071045,  0.03627014], dtype=float32), 1.9)\n",
      "('../../../freynman/data/downloaded/cut_wavs/symmetry_in_physical_law/code_name_2470346.0_2472236.0.wav', 'now I’d like to know what you look like.\"', 41, array([-0.01025391, -0.00814819, -0.00608826, ..., -0.00062561,\n",
      "       -0.00074768, -0.00080872], dtype=float32), 1.89)\n",
      "('../../../freynman/data/downloaded/cut_wavs/symmetry_in_physical_law/code_name_2493716.0_2495486.0.wav', 'nor can we both look at the same object.', 40, array([ 1.5258789e-05, -9.1552734e-05, -2.1362305e-04, ...,\n",
      "       -8.5296631e-03, -8.9263916e-03, -9.1705322e-03], dtype=float32), 1.77)\n",
      "('../../../freynman/data/downloaded/cut_wavs/symmetry_in_physical_law/code_name_2622566.0_2624506.0.wav', 'an electron, and an antineutrino,', 33, array([-0.00430298, -0.00474548, -0.00521851, ..., -0.00039673,\n",
      "       -0.00042725, -0.00053406], dtype=float32), 1.94)\n",
      "('../../../freynman/data/downloaded/cut_wavs/symmetry_in_physical_law/code_name_2693646.0_2694066.0.wav', 'Let’s see ...', 13, array([ 0.00126648,  0.00132751,  0.00132751, ..., -0.00518799,\n",
      "       -0.00543213, -0.00564575], dtype=float32), 0.42)\n",
      "('../../../freynman/data/downloaded/cut_wavs/symmetry_in_physical_law/code_name_2862676.0_2864346.0.wav', 'Suppose you were walking around ...', 35, array([0.00053406, 0.00053406, 0.00045776, ..., 0.06393433, 0.06234741,\n",
      "       0.06072998], dtype=float32), 1.67)\n",
      "('../../../freynman/data/downloaded/cut_wavs/symmetry_in_physical_law/code_name_2902856.0_2904796.0.wav', 'taking a step doesn’t make much difference,', 43, array([-0.00016785, -0.0002594 , -0.00041199, ...,  0.00323486,\n",
      "        0.00320435,  0.00328064], dtype=float32), 1.94)\n",
      "('../../../freynman/data/downloaded/cut_wavs/symmetry_in_physical_law/code_name_2971806.0_2973366.0.wav', '#Now, I show you something else.', 32, array([-2.2888184e-04, -1.8310547e-04, -7.6293945e-05, ...,\n",
      "        5.4931641e-04,  7.3242188e-04,  8.2397461e-04], dtype=float32), 1.56)\n",
      "('../../../freynman/data/downloaded/cut_wavs/symmetry_in_physical_law/code_name_3060496.0_3062256.0.wav', 'of displacement in space is right.', 34, array([0.00134277, 0.00094604, 0.0007019 , ..., 0.00187683, 0.00204468,\n",
      "       0.00224304], dtype=float32), 1.76)\n",
      "('../../../freynman/data/downloaded/cut_wavs/symmetry_in_physical_law/code_name_3081126.0_3082896.0.wav', 'in space doesn’t make any difference,', 37, array([ 0.03482056,  0.03886414,  0.04406738, ..., -0.00067139,\n",
      "       -0.00076294, -0.00073242], dtype=float32), 1.77)\n",
      "('../../../freynman/data/downloaded/cut_wavs/symmetry_in_physical_law/code_name_3140656.0_3142266.0.wav', 'For a proton, there’s an antiproton.', 36, array([0.00073242, 0.00067139, 0.00062561, ..., 0.01452637, 0.01676941,\n",
      "       0.01882935], dtype=float32), 1.61)\n",
      "('../../../freynman/data/downloaded/cut_wavs/symmetry_in_physical_law/code_name_3184356.0_3186166.0.wav', '(Of course if they come together they annihilate;', 49, array([ 0.03944397,  0.04022217,  0.04046631, ..., -0.05615234,\n",
      "       -0.05700684, -0.05744934], dtype=float32), 1.81)\n",
      "('../../../freynman/data/downloaded/cut_wavs/probability_and_uncertainty/code_name_219576.0_221546.0.wav', 'that I want to talk about tonight.', 34, array([-0.00442505, -0.00471497, -0.00476074, ..., -0.00076294,\n",
      "       -0.0007782 , -0.00079346], dtype=float32), 1.97)\n",
      "('../../../freynman/data/downloaded/cut_wavs/probability_and_uncertainty/code_name_571826.0_572646.0.wav', '#So we begin.', 13, array([0.00143433, 0.00120544, 0.00091553, ..., 0.00262451, 0.00250244,\n",
      "       0.00244141], dtype=float32), 0.82)\n",
      "('../../../freynman/data/downloaded/cut_wavs/probability_and_uncertainty/code_name_616806.0_618256.0.wav', 'It’s the same thing.\"', 21, array([-0.00057983, -0.00064087, -0.00062561, ..., -0.00271606,\n",
      "       -0.00245667, -0.00228882], dtype=float32), 1.45)\n",
      "('../../../freynman/data/downloaded/cut_wavs/probability_and_uncertainty/code_name_635856.0_636976.0.wav', '#So you start with bullets.', 27, array([ 0.00209045,  0.0020752 ,  0.00195312, ..., -0.00120544,\n",
      "       -0.00105286, -0.00088501], dtype=float32), 1.12)\n",
      "('../../../freynman/data/downloaded/cut_wavs/probability_and_uncertainty/code_name_761736.0_763396.0.wav', '#All right.', 11, array([-0.00375366, -0.0037384 , -0.0038147 , ...,  0.00378418,\n",
      "        0.00390625,  0.0039978 ], dtype=float32), 1.66)\n",
      "('../../../freynman/data/downloaded/cut_wavs/probability_and_uncertainty/code_name_889716.0_891706.0.wav', 'Say you wait an hour, and you count how many bullets are', 56, array([-0.00170898, -0.00167847, -0.00178528, ...,  0.01686096,\n",
      "        0.01625061,  0.01570129], dtype=float32), 1.99)\n",
      "('../../../freynman/data/downloaded/cut_wavs/probability_and_uncertainty/code_name_1016046.0_1017546.0.wav', 'it can be any number whatsoever.', 32, array([-0.00869751, -0.00881958, -0.0090332 , ..., -0.04415894,\n",
      "       -0.03903198, -0.03276062], dtype=float32), 1.5)\n",
      "('../../../freynman/data/downloaded/cut_wavs/probability_and_uncertainty/code_name_1103656.0_1105576.0.wav', 'This proposition-the fact that all you have', 43, array([0.00138855, 0.00195312, 0.00247192, ..., 0.03144836, 0.03045654,\n",
      "       0.02952576], dtype=float32), 1.92)\n",
      "('../../../freynman/data/downloaded/cut_wavs/probability_and_uncertainty/code_name_1119666.0_1120396.0.wav', 'That’s for bullets.', 19, array([ 0.00036621,  0.00032043,  0.00027466, ..., -0.00630188,\n",
      "       -0.00624084, -0.00628662], dtype=float32), 0.73)\n",
      "('../../../freynman/data/downloaded/cut_wavs/probability_and_uncertainty/code_name_1123866.0_1124226.0.wav', '#All right.', 11, array([0.00141907, 0.00166321, 0.00193787, ..., 0.00149536, 0.00175476,\n",
      "       0.00193787], dtype=float32), 0.36)\n",
      "('../../../freynman/data/downloaded/cut_wavs/probability_and_uncertainty/code_name_1141346.0_1143296.0.wav', '(Perhaps it’s better to do it with ripples than it is to do it', 62, array([0.00125122, 0.0010376 , 0.0007019 , ..., 0.014328  , 0.01403809,\n",
      "       0.01376343], dtype=float32), 1.95)\n",
      "('../../../freynman/data/downloaded/cut_wavs/probability_and_uncertainty/code_name_1143296.0_1145246.0.wav', 'with big ocean waves; it sounds more sensible.)', 47, array([ 0.01358032,  0.0133667 ,  0.01303101, ..., -0.01159668,\n",
      "       -0.01052856, -0.00932312], dtype=float32), 1.95)\n",
      "('../../../freynman/data/downloaded/cut_wavs/probability_and_uncertainty/code_name_1222436.0_1223756.0.wav', 'then there will be very little motion', 37, array([ 0.00016785,  0.00036621,  0.00039673, ..., -0.00167847,\n",
      "       -0.00175476, -0.00175476], dtype=float32), 1.32)\n",
      "('../../../freynman/data/downloaded/cut_wavs/probability_and_uncertainty/code_name_1279846.0_1281566.0.wav', '#A very complicated—looking curve.', 34, array([ 0.00880432,  0.00891113,  0.00904846, ...,  0.00375366,\n",
      "        0.00012207, -0.00360107], dtype=float32), 1.72)\n",
      "('../../../freynman/data/downloaded/cut_wavs/probability_and_uncertainty/code_name_1478026.0_1478836.0.wav', '#All right.', 11, array([ 0.00093079,  0.0007019 ,  0.00068665, ..., -0.00401306,\n",
      "       -0.00418091, -0.00439453], dtype=float32), 0.81)\n",
      "('../../../freynman/data/downloaded/cut_wavs/probability_and_uncertainty/code_name_1676046.0_1677136.0.wav', '#But she produces a curve for what?', 35, array([0.00152588, 0.00158691, 0.00161743, ..., 0.01831055, 0.0186615 ,\n",
      "       0.01925659], dtype=float32), 1.09)\n",
      "('../../../freynman/data/downloaded/cut_wavs/probability_and_uncertainty/code_name_1682286.0_1683686.0.wav', 'The mathematics is simple.', 26, array([0.00097656, 0.00079346, 0.00073242, ..., 0.00723267, 0.00759888,\n",
      "       0.00784302], dtype=float32), 1.4)\n",
      "('../../../freynman/data/downloaded/cut_wavs/probability_and_uncertainty/code_name_1959296.0_1959916.0.wav', '#That seems like .', 18, array([0.00112915, 0.00119019, 0.00117493, ..., 0.01235962, 0.0164032 ,\n",
      "       0.01998901], dtype=float32), 0.62)\n",
      "('../../../freynman/data/downloaded/cut_wavs/probability_and_uncertainty/code_name_2027476.0_2028616.0.wav', '#That’s logic.', 14, array([-0.00100708, -0.00115967, -0.00134277, ...,  0.00358582,\n",
      "        0.00360107,  0.00369263], dtype=float32), 1.14)\n",
      "('../../../freynman/data/downloaded/cut_wavs/probability_and_uncertainty/code_name_2045846.0_2047696.0.wav', '#To watch them we need light.', 29, array([-0.00953674, -0.00953674, -0.009552  , ..., -0.00286865,\n",
      "       -0.00286865, -0.00274658], dtype=float32), 1.85)\n",
      "('../../../freynman/data/downloaded/cut_wavs/probability_and_uncertainty/code_name_2113226.0_2114706.0.wav', 'I’ll show you what we’re going to do, see .', 43, array([-0.00294495, -0.00265503, -0.00234985, ..., -0.0035553 ,\n",
      "       -0.00294495, -0.00239563], dtype=float32), 1.48)\n",
      "('../../../freynman/data/downloaded/cut_wavs/probability_and_uncertainty/code_name_2135276.0_2136766.0.wav', '#All right, you say, one arrived.', 33, array([-3.5400391e-03, -3.4942627e-03, -3.6926270e-03, ...,\n",
      "        6.1035156e-05,  5.9814453e-03,  1.1566162e-02], dtype=float32), 1.49)\n",
      "('../../../freynman/data/downloaded/cut_wavs/probability_and_uncertainty/code_name_2152096.0_2153926.0.wav', 'of course, and I say either Number 1 or 2.', 42, array([0.00570679, 0.00637817, 0.00692749, ..., 0.04719543, 0.0451355 ,\n",
      "       0.0430603 ], dtype=float32), 1.83)\n",
      "('../../../freynman/data/downloaded/cut_wavs/probability_and_uncertainty/code_name_2153926.0_2155616.0.wav', '#The first one was 1, what’s the next one?', 42, array([ 0.0410614 ,  0.03900146,  0.03668213, ..., -0.00430298,\n",
      "       -0.00398254, -0.00364685], dtype=float32), 1.69)\n",
      "('../../../freynman/data/downloaded/cut_wavs/probability_and_uncertainty/code_name_2155616.0_2156396.0.wav', 'Number 2. All right.', 20, array([-0.00315857, -0.00250244, -0.00172424, ..., -0.00390625,\n",
      "       -0.00389099, -0.00384521], dtype=float32), 0.78)\n",
      "('../../../freynman/data/downloaded/cut_wavs/probability_and_uncertainty/code_name_2186796.0_2188356.0.wav', 'that have supposed to have come through 1.', 42, array([ 0.00279236,  0.00326538,  0.00382996, ..., -0.00439453,\n",
      "       -0.00456238, -0.00469971], dtype=float32), 1.56)\n",
      "('../../../freynman/data/downloaded/cut_wavs/probability_and_uncertainty/code_name_2226996.0_2228636.0.wav', 'it has to be distributed this way!', 34, array([-0.00778198, -0.00794983, -0.00794983, ..., -0.00163269,\n",
      "       -0.00169373, -0.00169373], dtype=float32), 1.64)\n",
      "('../../../freynman/data/downloaded/cut_wavs/probability_and_uncertainty/code_name_2386926.0_2388656.0.wav', '#How, then, does this turn into that?', 37, array([ 1.5258789e-04, -3.0517578e-05, -2.2888184e-04, ...,\n",
      "        2.2827148e-02,  2.0965576e-02,  1.9149780e-02], dtype=float32), 1.73)\n",
      "('../../../freynman/data/downloaded/cut_wavs/probability_and_uncertainty/code_name_2406886.0_2408766.0.wav', 'that are coming out of the source.', 34, array([-0.0050354 , -0.00486755, -0.00476074, ...,  0.00045776,\n",
      "        0.00033569,  0.00036621], dtype=float32), 1.88)\n",
      "('../../../freynman/data/downloaded/cut_wavs/probability_and_uncertainty/code_name_2418826.0_2420096.0.wav', 'sometimes the electron will get through,', 40, array([0.01066589, 0.0085144 , 0.00593567, ..., 0.00939941, 0.00915527,\n",
      "       0.00881958], dtype=float32), 1.27)\n",
      "('../../../freynman/data/downloaded/cut_wavs/probability_and_uncertainty/code_name_2423646.0_2425026.0.wav', 'I didn’t see it.', 16, array([ 0.00970459,  0.01046753,  0.01112366, ..., -0.001297  ,\n",
      "       -0.0012207 , -0.00100708], dtype=float32), 1.38)\n",
      "('../../../freynman/data/downloaded/cut_wavs/probability_and_uncertainty/code_name_2433026.0_2434886.0.wav', '#You see, you get a click over here.', 36, array([ 2.4414062e-04, -6.1035156e-05, -4.1198730e-04, ...,\n",
      "       -1.0986328e-03, -9.1552734e-04, -7.9345703e-04], dtype=float32), 1.86)\n",
      "('../../../freynman/data/downloaded/cut_wavs/probability_and_uncertainty/code_name_2460776.0_2462726.0.wav', '#You can guess what happens.', 28, array([-0.01425171, -0.01338196, -0.01266479, ..., -0.00187683,\n",
      "       -0.00193787, -0.00190735], dtype=float32), 1.95)\n",
      "('../../../freynman/data/downloaded/cut_wavs/probability_and_uncertainty/code_name_2647376.0_2649036.0.wav', 'through which hole the electron comes.', 38, array([0.02072144, 0.02093506, 0.02111816, ..., 0.00219727, 0.00219727,\n",
      "       0.0022583 ], dtype=float32), 1.66)\n",
      "('../../../freynman/data/downloaded/cut_wavs/probability_and_uncertainty/code_name_2696446.0_2698096.0.wav', 'limited in their character.', 27, array([0.00828552, 0.00848389, 0.00849915, ..., 0.        , 0.00024414,\n",
      "       0.00038147], dtype=float32), 1.65)\n",
      "('../../../freynman/data/downloaded/cut_wavs/probability_and_uncertainty/code_name_2700486.0_2701866.0.wav', '#What about this Proposition A?', 31, array([0.00061035, 0.00057983, 0.00061035, ..., 0.01400757, 0.01417542,\n",
      "       0.01428223], dtype=float32), 1.38)\n",
      "('../../../freynman/data/downloaded/cut_wavs/probability_and_uncertainty/code_name_3032846.0_3034226.0.wav', '#Well, that’s not possible.', 27, array([-1.5258789e-05,  1.2207031e-04,  2.2888184e-04, ...,\n",
      "       -1.5258789e-04, -4.5776367e-04, -8.5449219e-04], dtype=float32), 1.38)\n",
      "('../../../freynman/data/downloaded/cut_wavs/probability_and_uncertainty/code_name_3191056.0_3192996.0.wav', 'and delay the war a little longer.', 34, array([ 0.00019836, -0.00013733, -0.00036621, ..., -0.00120544,\n",
      "       -0.00141907, -0.00166321], dtype=float32), 1.94)\n",
      "('../../../freynman/data/downloaded/cut_wavs/seeking_new_laws/code_name_144496.0_146316.0.wav', 'that we know about the physics.', 31, array([-0.00520325, -0.00463867, -0.00393677, ...,  0.00094604,\n",
      "        0.0012207 ,  0.00132751], dtype=float32), 1.82)\n",
      "('../../../freynman/data/downloaded/cut_wavs/seeking_new_laws/code_name_156716.0_158366.0.wav', 'The principle that I just spoke of,', 35, array([-0.00061035, -0.00080872, -0.0009613 , ..., -0.00442505,\n",
      "       -0.00436401, -0.00436401], dtype=float32), 1.65)\n",
      "('../../../freynman/data/downloaded/cut_wavs/seeking_new_laws/code_name_304436.0_306056.0.wav', 'and it takes care of doubling the number', 40, array([-0.0015564 , -0.00082397, -0.00018311, ..., -0.00468445,\n",
      "       -0.00390625, -0.00289917], dtype=float32), 1.62)\n",
      "('../../../freynman/data/downloaded/cut_wavs/seeking_new_laws/code_name_402736.0_404706.0.wav', '#This wasn’t always possible.', 29, array([-0.00216675, -0.00244141, -0.00265503, ..., -0.00120544,\n",
      "       -0.00125122, -0.00141907], dtype=float32), 1.97)\n",
      "('../../../freynman/data/downloaded/cut_wavs/seeking_new_laws/code_name_414106.0_415856.0.wav', 'without resistance at low temperatures.', 39, array([ 5.1422119e-03,  3.0517578e-05, -4.2877197e-03, ...,\n",
      "        7.0648193e-03,  7.3699951e-03,  6.8511963e-03], dtype=float32), 1.75)\n",
      "('../../../freynman/data/downloaded/cut_wavs/seeking_new_laws/code_name_584636.0_585926.0.wav', 'by studying those peculiar things,', 34, array([ 4.5776367e-05,  1.9836426e-04,  2.5939941e-04, ...,\n",
      "       -2.9754639e-02, -3.0319214e-02, -3.1280518e-02], dtype=float32), 1.29)\n",
      "('../../../freynman/data/downloaded/cut_wavs/seeking_new_laws/code_name_598146.0_600086.0.wav', 'when we hit these things together hard,', 39, array([-0.01416016, -0.01313782, -0.01203918, ..., -0.00019836,\n",
      "       -0.0007019 , -0.001297  ], dtype=float32), 1.94)\n",
      "('../../../freynman/data/downloaded/cut_wavs/seeking_new_laws/code_name_602686.0_604626.0.wav', 'As a matter of fact, in this column,', 36, array([-0.00135803, -0.00138855, -0.00143433, ...,  0.04502869,\n",
      "        0.04127502,  0.03761292], dtype=float32), 1.94)\n",
      "('../../../freynman/data/downloaded/cut_wavs/seeking_new_laws/code_name_664886.0_666846.0.wav', 'than an electron—and that’s the only difference known', 53, array([ 0.0269928 ,  0.02690125,  0.02723694, ..., -0.02452087,\n",
      "       -0.02619934, -0.02726746], dtype=float32), 1.96)\n",
      "('../../../freynman/data/downloaded/cut_wavs/seeking_new_laws/code_name_689326.0_690676.0.wav', 'there’re going to be a lot of names!', 36, array([-0.04272461, -0.04273987, -0.04258728, ...,  0.00743103,\n",
      "        0.00846863,  0.00935364], dtype=float32), 1.35)\n",
      "('../../../freynman/data/downloaded/cut_wavs/seeking_new_laws/code_name_781066.0_782646.0.wav', 'because it doesn’t work for the electricity.', 44, array([0.0103302 , 0.010849  , 0.01164246, ..., 0.00694275, 0.00715637,\n",
      "       0.00743103], dtype=float32), 1.58)\n",
      "('../../../freynman/data/downloaded/cut_wavs/seeking_new_laws/code_name_810836.0_812346.0.wav', 'not very accurate.', 18, array([-0.00109863, -0.00091553, -0.00073242, ..., -0.00080872,\n",
      "       -0.00064087, -0.0005188 ], dtype=float32), 1.51)\n",
      "('../../../freynman/data/downloaded/cut_wavs/seeking_new_laws/code_name_835616.0_836986.0.wav', 'before you get to deeper discoveries.', 37, array([ 0.00112915,  0.00115967,  0.00126648, ..., -0.01739502,\n",
      "       -0.02180481, -0.02612305], dtype=float32), 1.37)\n",
      "('../../../freynman/data/downloaded/cut_wavs/seeking_new_laws/code_name_973356.0_974946.0.wav', '#Another proposition is that the energy', 39, array([ 0.02838135,  0.02844238,  0.0282135 , ..., -0.09838867,\n",
      "       -0.09640503, -0.09724426], dtype=float32), 1.59)\n",
      "('../../../freynman/data/downloaded/cut_wavs/seeking_new_laws/code_name_1009606.0_1011546.0.wav', '#Okay, now that’s the present situation.', 40, array([ 0.00062561,  0.00057983,  0.00054932, ..., -0.00042725,\n",
      "       -0.00047302, -0.00045776], dtype=float32), 1.94)\n",
      "('../../../freynman/data/downloaded/cut_wavs/seeking_new_laws/code_name_1093666.0_1095486.0.wav', 'Those are obvious remarks.', 26, array([ 0.04118347,  0.04057312,  0.04005432, ..., -0.00299072,\n",
      "       -0.00299072, -0.00308228], dtype=float32), 1.82)\n",
      "('../../../freynman/data/downloaded/cut_wavs/seeking_new_laws/code_name_1214076.0_1215376.0.wav', 'Your theory is then right?', 26, array([-0.00416565, -0.00442505, -0.0045166 , ...,  0.00279236,\n",
      "        0.0032196 ,  0.00379944], dtype=float32), 1.3)\n",
      "('../../../freynman/data/downloaded/cut_wavs/seeking_new_laws/code_name_1241956.0_1243876.0.wav', 'of the motion of Mercury was developed.', 39, array([-0.00149536, -0.00204468, -0.0025177 , ..., -0.00291443,\n",
      "       -0.00338745, -0.00378418], dtype=float32), 1.92)\n",
      "('../../../freynman/data/downloaded/cut_wavs/seeking_new_laws/code_name_1357216.0_1358916.0.wav', 'because it can’t be proved wrong.', 33, array([-0.01315308, -0.01412964, -0.01513672, ...,  0.00352478,\n",
      "        0.00299072,  0.00238037], dtype=float32), 1.7)\n",
      "('../../../freynman/data/downloaded/cut_wavs/seeking_new_laws/code_name_1370846.0_1372626.0.wav', 'You’re probably familiar with that in other fields.', 51, array([-0.00500488, -0.00463867, -0.00424194, ..., -0.00042725,\n",
      "       -0.00024414, -0.00015259], dtype=float32), 1.78)\n",
      "('../../../freynman/data/downloaded/cut_wavs/seeking_new_laws/code_name_1412106.0_1413786.0.wav', 'against which you can make tests.', 33, array([-0.0813446 , -0.09281921, -0.10479736, ...,  0.00048828,\n",
      "        0.00041199,  0.00039673], dtype=float32), 1.68)\n",
      "('../../../freynman/data/downloaded/cut_wavs/seeking_new_laws/code_name_1444996.0_1446946.0.wav', 'if you suppose it’s perfect)—and compare with experiment.', 57, array([-0.03146362, -0.03106689, -0.03070068, ..., -0.00202942,\n",
      "       -0.00404358, -0.00637817], dtype=float32), 1.95)\n",
      "('../../../freynman/data/downloaded/cut_wavs/seeking_new_laws/code_name_1542156.0_1543836.0.wav', 'at least, as the way Yukawa did it.', 35, array([ 0.04037476,  0.04072571,  0.04069519, ..., -0.00119019,\n",
      "       -0.00109863, -0.00093079], dtype=float32), 1.68)\n",
      "('../../../freynman/data/downloaded/cut_wavs/seeking_new_laws/code_name_1650676.0_1652626.0.wav', 'Maybe they aren’t right.\"', 25, array([-0.00090027, -0.00090027, -0.00093079, ...,  0.00108337,\n",
      "        0.00021362, -0.00033569], dtype=float32), 1.95)\n",
      "('../../../freynman/data/downloaded/cut_wavs/seeking_new_laws/code_name_1660606.0_1662426.0.wav', 'and it doesn’t do any good to point this out.', 45, array([0.0947876 , 0.09823608, 0.10070801, ..., 0.01199341, 0.01193237,\n",
      "       0.01170349], dtype=float32), 1.82)\n",
      "('../../../freynman/data/downloaded/cut_wavs/seeking_new_laws/code_name_1778096.0_1780006.0.wav', 'How is it done?', 15, array([-0.0010376 , -0.00061035, -0.0002594 , ...,  0.00144958,\n",
      "        0.00144958,  0.00149536], dtype=float32), 1.91)\n",
      "('../../../freynman/data/downloaded/cut_wavs/seeking_new_laws/code_name_1806956.0_1808886.0.wav', 'who obtained the laws of electricity and magnetism.', 51, array([ 0.12947083,  0.12420654,  0.11825562, ..., -0.0362854 ,\n",
      "       -0.03573608, -0.03507996], dtype=float32), 1.93)\n",
      "('../../../freynman/data/downloaded/cut_wavs/seeking_new_laws/code_name_1837886.0_1839516.0.wav', 'because they didn’t believe in the idler wheels.', 48, array([0.0144043 , 0.01776123, 0.02125549, ..., 0.01028442, 0.01144409,\n",
      "       0.01263428], dtype=float32), 1.63)\n",
      "('../../../freynman/data/downloaded/cut_wavs/seeking_new_laws/code_name_2024626.0_2026416.0.wav', 'without understanding it very well.', 35, array([-0.01467896, -0.01379395, -0.01286316, ..., -0.00375366,\n",
      "       -0.00372314, -0.00375366], dtype=float32), 1.79)\n",
      "('../../../freynman/data/downloaded/cut_wavs/seeking_new_laws/code_name_2065766.0_2067626.0000000002.wav', 'provided that you can compare it to experiment.', 47, array([-1.8310547e-04, -7.6293945e-05, -1.9836426e-04, ...,\n",
      "        5.4656982e-02,  5.4687500e-02,  5.4534912e-02], dtype=float32), 1.86)\n",
      "('../../../freynman/data/downloaded/cut_wavs/seeking_new_laws/code_name_2103776.0_2105666.0.wav', 'It’s only useful if it makes predictions.', 41, array([0.0039978 , 0.00393677, 0.00390625, ..., 0.06936646, 0.07072449,\n",
      "       0.07167053], dtype=float32), 1.89)\n",
      "('../../../freynman/data/downloaded/cut_wavs/seeking_new_laws/code_name_2141936.0_2142946.0.wav', 'Yes, I know.', 12, array([-0.00500488, -0.0055542 , -0.00570679, ..., -0.0010376 ,\n",
      "       -0.00137329, -0.0018158 ], dtype=float32), 1.01)\n",
      "('../../../freynman/data/downloaded/cut_wavs/seeking_new_laws/code_name_2159726.0_2160736.0.wav', '#What we’re looking for is just', 31, array([0.00039673, 0.00027466, 0.0002594 , ..., 0.04223633, 0.04269409,\n",
      "       0.04293823], dtype=float32), 1.01)\n",
      "('../../../freynman/data/downloaded/cut_wavs/seeking_new_laws/code_name_2240356.0_2242316.0.wav', 'who are not in science think it is.', 35, array([ 0.00012207, -0.00453186, -0.00930786, ...,  0.00456238,\n",
      "        0.00489807,  0.00517273], dtype=float32), 1.96)\n",
      "('../../../freynman/data/downloaded/cut_wavs/seeking_new_laws/code_name_2260276.0_2262136.0.wav', 'Can you prove that it’s impossible?\"', 36, array([-0.09239197, -0.09251404, -0.0932312 , ...,  0.0206604 ,\n",
      "        0.02146912,  0.02210999], dtype=float32), 1.86)\n",
      "('../../../freynman/data/downloaded/cut_wavs/seeking_new_laws/code_name_2346776.0_2348326.0.wav', 'and you don’t got much to work with.', 36, array([-0.00268555, -0.0022583 , -0.00152588, ..., -0.05581665,\n",
      "       -0.05444336, -0.0531311 ], dtype=float32), 1.55)\n",
      "('../../../freynman/data/downloaded/cut_wavs/seeking_new_laws/code_name_2424866.0_2426136.0.wav', 'I’m not telling you what to substitute.', 39, array([0.0202179 , 0.01660156, 0.01274109, ..., 0.00091553, 0.00186157,\n",
      "       0.00302124], dtype=float32), 1.27)\n",
      "('../../../freynman/data/downloaded/cut_wavs/seeking_new_laws/code_name_2450466.0_2451996.0.wav', '#That seems to me like a big order.', 35, array([ 6.1035156e-04, -9.1552734e-05, -9.4604492e-04, ...,\n",
      "        7.6446533e-03,  9.6130371e-03,  1.1764526e-02], dtype=float32), 1.53)\n",
      "('../../../freynman/data/downloaded/cut_wavs/seeking_new_laws/code_name_2456516.0_2457996.0.wav', 'That’s right.', 13, array([0.0039978 , 0.0039978 , 0.00413513, ..., 0.01026917, 0.0112915 ,\n",
      "       0.01197815], dtype=float32), 1.48)\n",
      "('../../../freynman/data/downloaded/cut_wavs/seeking_new_laws/code_name_2552836.0_2554306.0.wav', 'Why are they nearly symmetrical?', 32, array([-0.00088501, -0.00114441, -0.00119019, ..., -0.165802  ,\n",
      "       -0.16334534, -0.16075134], dtype=float32), 1.47)\n",
      "('../../../freynman/data/downloaded/cut_wavs/seeking_new_laws/code_name_2571036.0_2571896.0.wav', '#That’s another possibility.', 28, array([0.00057983, 0.00073242, 0.00085449, ..., 0.03456116, 0.03540039,\n",
      "       0.03620911], dtype=float32), 0.86)\n",
      "('../../../freynman/data/downloaded/cut_wavs/seeking_new_laws/code_name_2636906.0_2638476.0.wav', 'to distinguish them, and that’s right.', 38, array([ 0.01379395,  0.01141357,  0.0090332 , ..., -0.00061035,\n",
      "       -0.00050354, -0.00027466], dtype=float32), 1.57)\n",
      "('../../../freynman/data/downloaded/cut_wavs/seeking_new_laws/code_name_2669926.0_2671726.0.wav', 'than a simple change there.', 27, array([ 0.04174805,  0.04000854,  0.03889465, ..., -0.0022583 ,\n",
      "       -0.00216675, -0.00195312], dtype=float32), 1.8)\n",
      "('../../../freynman/data/downloaded/cut_wavs/seeking_new_laws/code_name_2737856.0_2739446.0.wav', 'with which you started was enormous.', 36, array([-0.0065155 , -0.00582886, -0.0050354 , ...,  0.01675415,\n",
      "        0.01635742,  0.01570129], dtype=float32), 1.59)\n",
      "('../../../freynman/data/downloaded/cut_wavs/seeking_new_laws/code_name_2760556.0_2762076.0.wav', '#What are these philosophies?', 29, array([-0.00071716, -0.00097656, -0.00114441, ...,  0.0038147 ,\n",
      "        0.00408936,  0.00444031], dtype=float32), 1.52)\n",
      "('../../../freynman/data/downloaded/cut_wavs/seeking_new_laws/code_name_2956926.0_2958226.0.wav', '#What do we do?', 15, array([-2.4414062e-04, -4.5776367e-05,  1.9836426e-04, ...,\n",
      "       -1.7700195e-03, -2.0904541e-03, -2.2277832e-03], dtype=float32), 1.3)\n",
      "('../../../freynman/data/downloaded/cut_wavs/seeking_new_laws/code_name_3015116.0_3017096.0.wav', 'is to know when you’re right.', 29, array([ 0.00193787,  0.00210571,  0.00222778, ..., -0.00289917,\n",
      "       -0.00323486, -0.00338745], dtype=float32), 1.98)\n",
      "('../../../freynman/data/downloaded/cut_wavs/seeking_new_laws/code_name_3021396.0_3023186.0.wav', 'of checking of all the consequences.', 36, array([ 0.02539062,  0.02629089,  0.02687073, ..., -0.00427246,\n",
      "       -0.00474548, -0.00518799], dtype=float32), 1.79)\n",
      "('../../../freynman/data/downloaded/cut_wavs/seeking_new_laws/code_name_3042406.0_3044236.0.wav', 'in fact, that something is very simple.', 39, array([-0.00994873, -0.01081848, -0.01153564, ..., -0.05223083,\n",
      "       -0.0453186 , -0.03814697], dtype=float32), 1.83)\n",
      "('../../../freynman/data/downloaded/cut_wavs/seeking_new_laws/code_name_3097146.0_3098796.0.wav', 'in that disagreement, agree with nature.', 40, array([-0.05732727, -0.06095886, -0.06451416, ..., -0.00021362,\n",
      "        0.00024414,  0.00061035], dtype=float32), 1.65)\n",
      "('../../../freynman/data/downloaded/cut_wavs/seeking_new_laws/code_name_3135046.0_3136356.0.wav', 'What will happen, ultimately?', 29, array([-0.00428772, -0.00518799, -0.00634766, ...,  0.01435852,\n",
      "        0.0151825 ,  0.01583862], dtype=float32), 1.31)\n",
      "('../../../freynman/data/downloaded/cut_wavs/seeking_new_laws/code_name_3140006.0_3141846.0.wav', 'I don’t know.', 13, array([ 0.0083313 ,  0.00872803,  0.00912476, ..., -0.00169373,\n",
      "       -0.00189209, -0.00221252], dtype=float32), 1.84)\n",
      "('../../../freynman/data/downloaded/cut_wavs/seeking_new_laws/code_name_3209726.0_3211306.0.wav', 'It’s an age which will never come again.', 40, array([ 0.00279236,  0.00254822,  0.00193787, ..., -0.01190186,\n",
      "       -0.01293945, -0.01324463], dtype=float32), 1.58)\n",
      "('../../../freynman/data/downloaded/cut_wavs/seeking_new_laws/code_name_3367496.0_3369136.0.wav', 'It takes a lot of thought.', 26, array([ 0.00553894,  0.00419617,  0.00291443, ..., -0.00238037,\n",
      "       -0.00244141, -0.00253296], dtype=float32), 1.64)\n",
      "('../../../freynman/data/downloaded/cut_wavs/the_relation_of_mathematics_and_physics/code_name_234466.0_236186.0.wav', 'In other words, the statement of the rules are very simple,', 59, array([-0.00106812, -0.00109863, -0.00128174, ...,  0.00773621,\n",
      "        0.00694275,  0.00639343], dtype=float32), 1.72)\n",
      "('../../../freynman/data/downloaded/cut_wavs/the_relation_of_mathematics_and_physics/code_name_364216.0_365606.0.wav', 'Well, it sounds very mathematical.', 34, array([ 1.5258789e-04,  1.5258789e-05, -2.5939941e-04, ...,\n",
      "        3.0517578e-05, -4.5776367e-05, -1.9836426e-04], dtype=float32), 1.39)\n",
      "('../../../freynman/data/downloaded/cut_wavs/the_relation_of_mathematics_and_physics/code_name_383746.0_385236.0.wav', 'and thus to the charge that goes through the wire.', 50, array([ 0.03321838,  0.03800964,  0.04246521, ..., -0.00526428,\n",
      "       -0.00604248, -0.00723267], dtype=float32), 1.49)\n",
      "('../../../freynman/data/downloaded/cut_wavs/the_relation_of_mathematics_and_physics/code_name_395036.0_396496.0.wav', 'in order for it to deposit itself.', 34, array([-0.00720215, -0.00682068, -0.00656128, ..., -0.00112915,\n",
      "       -0.00106812, -0.00086975], dtype=float32), 1.46)\n",
      "('../../../freynman/data/downloaded/cut_wavs/the_relation_of_mathematics_and_physics/code_name_471746.0_473436.0.wav', 'He says, \"It tells you how it moves.', 36, array([ 0.04067993,  0.04168701,  0.04222107, ..., -0.00109863,\n",
      "       -0.00115967, -0.00111389], dtype=float32), 1.69)\n",
      "('../../../freynman/data/downloaded/cut_wavs/the_relation_of_mathematics_and_physics/code_name_558236.0_560036.0.wav', 'than the number that are coming from the other side,', 52, array([0.00219727, 0.00231934, 0.00234985, ..., 0.00099182, 0.00115967,\n",
      "       0.00119019], dtype=float32), 1.8)\n",
      "('../../../freynman/data/downloaded/cut_wavs/the_relation_of_mathematics_and_physics/code_name_574996.0_576626.0.wav', 'in which particles can come—I mean,', 35, array([ 0.00166321,  0.00149536,  0.00125122, ..., -0.00238037,\n",
      "       -0.00210571, -0.00180054], dtype=float32), 1.63)\n",
      "('../../../freynman/data/downloaded/cut_wavs/the_relation_of_mathematics_and_physics/code_name_655126.0_656836.0.wav', 'that it has been going around the sun.', 38, array([0.00065613, 0.00085449, 0.00102234, ..., 0.00161743, 0.00170898,\n",
      "       0.00184631], dtype=float32), 1.71)\n",
      "('../../../freynman/data/downloaded/cut_wavs/the_relation_of_mathematics_and_physics/code_name_957426.0_959396.0.wav', 'So I’m going to prove, if I may,', 32, array([ 0.00047302,  0.00067139,  0.00073242, ..., -0.02577209,\n",
      "       -0.02310181, -0.02047729], dtype=float32), 1.97)\n",
      "('../../../freynman/data/downloaded/cut_wavs/the_relation_of_mathematics_and_physics/code_name_968266.0_969006.0.wav', '#So, we start.', 14, array([ 0.00195312,  0.00202942,  0.00215149, ..., -0.00590515,\n",
      "       -0.00570679, -0.00567627], dtype=float32), 0.74)\n",
      "('../../../freynman/data/downloaded/cut_wavs/the_relation_of_mathematics_and_physics/code_name_1006136.0_1006386.0.wav', 'All right.', 10, array([-0.00170898, -0.00137329, -0.00094604, ..., -0.00326538,\n",
      "       -0.00378418, -0.00448608], dtype=float32), 0.25)\n",
      "('../../../freynman/data/downloaded/cut_wavs/the_relation_of_mathematics_and_physics/code_name_1077576.0_1079086.0.wav', 'So, so far so good.', 19, array([-0.00228882, -0.0020752 , -0.0018158 , ...,  0.00506592,\n",
      "        0.00488281,  0.00463867], dtype=float32), 1.51)\n",
      "('../../../freynman/data/downloaded/cut_wavs/the_relation_of_mathematics_and_physics/code_name_1083156.0_1084846.0.wav', 'the two triangles have equal areas.', 35, array([-0.00326538, -0.00280762, -0.00233459, ...,  0.00073242,\n",
      "        0.00091553,  0.0010376 ], dtype=float32), 1.69)\n",
      "('../../../freynman/data/downloaded/cut_wavs/the_relation_of_mathematics_and_physics/code_name_1158566.0_1159726.0.wav', 'And do they have the same altitude?', 35, array([ 0.00068665,  0.00054932,  0.00061035, ..., -0.01863098,\n",
      "       -0.01849365, -0.01834106], dtype=float32), 1.16)\n",
      "('../../../freynman/data/downloaded/cut_wavs/the_relation_of_mathematics_and_physics/code_name_1192606.0_1193376.0.wav', 'Ingenious, no?', 14, array([0.00221252, 0.00221252, 0.00212097, ..., 0.02742004, 0.03178406,\n",
      "       0.03588867], dtype=float32), 0.77)\n",
      "('../../../freynman/data/downloaded/cut_wavs/the_relation_of_mathematics_and_physics/code_name_1227856.0_1229716.0.wav', 'out how to do it, you have to be clever.', 40, array([-0.07740784, -0.09262085, -0.10847473, ...,  0.00109863,\n",
      "        0.00128174,  0.00134277], dtype=float32), 1.86)\n",
      "('../../../freynman/data/downloaded/cut_wavs/the_relation_of_mathematics_and_physics/code_name_1576396.0_1578156.0.wav', 'you could also run the logic the other way,', 43, array([-0.02526855, -0.02424622, -0.02323914, ..., -0.01498413,\n",
      "       -0.0151062 , -0.01495361], dtype=float32), 1.76)\n",
      "('../../../freynman/data/downloaded/cut_wavs/the_relation_of_mathematics_and_physics/code_name_1608186.0_1609576.0.wav', 'and I work everything out from there.', 37, array([-0.00123596, -0.00120544, -0.00105286, ...,  0.00894165,\n",
      "        0.006073  ,  0.00337219], dtype=float32), 1.39)\n",
      "('../../../freynman/data/downloaded/cut_wavs/the_relation_of_mathematics_and_physics/code_name_1638716.0_1640596.0.wav', 'if each time you have to start back at the axioms.', 50, array([-0.01000977, -0.0105896 , -0.0111084 , ..., -0.00015259,\n",
      "       -0.00021362, -0.00036621], dtype=float32), 1.88)\n",
      "('../../../freynman/data/downloaded/cut_wavs/the_relation_of_mathematics_and_physics/code_name_1726246.0_1727836.0.wav', '#Well, I have to state what it is.', 34, array([ 0.00045776,  0.0005188 ,  0.00061035, ..., -0.00112915,\n",
      "       -0.00076294, -0.00033569], dtype=float32), 1.59)\n",
      "('../../../freynman/data/downloaded/cut_wavs/the_relation_of_mathematics_and_physics/code_name_1754316.0_1756266.0.wav', 'and that moving that way, and so on.', 36, array([-7.4920654e-03, -5.4016113e-03, -3.2806396e-03, ...,\n",
      "        1.8310547e-04,  6.1035156e-05, -1.6784668e-04], dtype=float32), 1.95)\n",
      "('../../../freynman/data/downloaded/cut_wavs/the_relation_of_mathematics_and_physics/code_name_1794876.0_1796636.0.wav', 'of conservation of angular momentum.', 36, array([-0.01451111, -0.01422119, -0.01394653, ..., -0.00187683,\n",
      "       -0.00222778, -0.00268555], dtype=float32), 1.76)\n",
      "('../../../freynman/data/downloaded/cut_wavs/the_relation_of_mathematics_and_physics/code_name_1892116.0_1893386.0.wav', 'where they’re not supposed to be.', 33, array([-0.0078125 , -0.00798035, -0.00791931, ...,  0.00318909,\n",
      "        0.00337219,  0.00335693], dtype=float32), 1.27)\n",
      "('../../../freynman/data/downloaded/cut_wavs/the_relation_of_mathematics_and_physics/code_name_1951166.0_1952966.0.wav', 'of the different branches of physics.', 37, array([ 0.00128174,  0.00091553,  0.0005188 , ..., -0.00222778,\n",
      "       -0.0022583 , -0.00192261], dtype=float32), 1.8)\n",
      "('../../../freynman/data/downloaded/cut_wavs/the_relation_of_mathematics_and_physics/code_name_2005726.0_2007546.0.wav', 'and come to the same thing.', 27, array([-0.00064087, -0.00045776, -0.00036621, ...,  0.00231934,\n",
      "        0.00239563,  0.00222778], dtype=float32), 1.82)\n",
      "('../../../freynman/data/downloaded/cut_wavs/the_relation_of_mathematics_and_physics/code_name_2149166.0_2149956.0.wav', 'you just tell me what it is', 27, array([ 0.01670837,  0.0166626 ,  0.01672363, ..., -0.00268555,\n",
      "       -0.00265503, -0.00271606], dtype=float32), 0.79)\n",
      "('../../../freynman/data/downloaded/cut_wavs/the_relation_of_mathematics_and_physics/code_name_2217956.0_2219306.0.wav', 'You don’t like action at a distance?', 36, array([-0.00605774, -0.0058136 , -0.00559998, ..., -0.00085449,\n",
      "       -0.00100708, -0.00100708], dtype=float32), 1.35)\n",
      "('../../../freynman/data/downloaded/cut_wavs/the_relation_of_mathematics_and_physics/code_name_2219306.0_2220926.0.wav', 'You can get away without it.', 28, array([-0.0009613 , -0.00082397, -0.00062561, ...,  0.00154114,\n",
      "        0.00131226,  0.00109863], dtype=float32), 1.62)\n",
      "('../../../freynman/data/downloaded/cut_wavs/the_relation_of_mathematics_and_physics/code_name_2399096.0_2400536.0.wav', 'What do we do then?', 19, array([-0.00057983, -0.00067139, -0.00064087, ...,  0.00045776,\n",
      "        0.00059509,  0.00064087], dtype=float32), 1.44)\n",
      "('../../../freynman/data/downloaded/cut_wavs/the_relation_of_mathematics_and_physics/code_name_2406886.0_2408366.0.wav', 'That’s true.', 12, array([ 0.00335693,  0.00318909,  0.00286865, ..., -0.00094604,\n",
      "       -0.00083923, -0.00079346], dtype=float32), 1.48)\n",
      "('../../../freynman/data/downloaded/cut_wavs/the_relation_of_mathematics_and_physics/code_name_2421496.0_2423366.0.wav', 'First, philosophically, you like them or don’t', 46, array([-0.00079346, -0.00106812, -0.00143433, ..., -0.00294495,\n",
      "       -0.00282288, -0.00279236], dtype=float32), 1.87)\n",
      "('../../../freynman/data/downloaded/cut_wavs/the_relation_of_mathematics_and_physics/code_name_2683306.0_2684866.0.wav', 'Now, I explain that.', 20, array([0.00134277, 0.00134277, 0.00135803, ..., 0.00054932, 0.00053406,\n",
      "       0.00048828], dtype=float32), 1.56)\n",
      "('../../../freynman/data/downloaded/cut_wavs/the_relation_of_mathematics_and_physics/code_name_2720146.0_2721916.0.wav', 'about \"triangles\" in the conclusion.', 36, array([ 0.00798035,  0.00941467,  0.01074219, ..., -0.00161743,\n",
      "       -0.00201416, -0.00236511], dtype=float32), 1.77)\n",
      "('../../../freynman/data/downloaded/cut_wavs/the_relation_of_mathematics_and_physics/code_name_2822456.0_2824136.0.wav', '\"Well, yeah, but I only want the case 3.\"', 41, array([ 0.00213623,  0.00195312,  0.00161743, ..., -0.04299927,\n",
      "       -0.04232788, -0.04151917], dtype=float32), 1.68)\n",
      "('../../../freynman/data/downloaded/cut_wavs/the_relation_of_mathematics_and_physics/code_name_2866566.0_2868326.0.wav', 'of problems, which is very useful.', 34, array([-0.00465393, -0.00514221, -0.00556946, ..., -0.00117493,\n",
      "       -0.00102234, -0.0009613 ], dtype=float32), 1.76)\n",
      "('../../../freynman/data/downloaded/cut_wavs/the_relation_of_mathematics_and_physics/code_name_2891476.0_2893446.0.wav', '#Now, another item that’s interesting', 37, array([ 0.0010376 ,  0.00079346,  0.00048828, ..., -0.00259399,\n",
      "       -0.00228882, -0.00201416], dtype=float32), 1.97)\n"
     ]
    }
   ],
   "source": [
    "for item in data:\n",
    "    if item[-1] < 2:\n",
    "        print(item)"
   ]
  },
  {
   "cell_type": "code",
   "execution_count": 16,
   "metadata": {
    "heading_collapsed": "false"
   },
   "outputs": [],
   "source": [
    "sec_per_chars = []\n",
    "for item in data:\n",
    "    text = item[1]\n",
    "    dur = item[-1]\n",
    "    sec_per_char = dur / len(text)\n",
    "    sec_per_chars.append(sec_per_char)\n",
    "# sec_per_char /= len(data)\n",
    "# print(sec_per_char)"
   ]
  },
  {
   "cell_type": "code",
   "execution_count": 17,
   "metadata": {
    "heading_collapsed": "false"
   },
   "outputs": [
    {
     "name": "stdout",
     "output_type": "stream",
     "text": [
      "0.07626418401610002\n",
      "0.2654546707239926\n"
     ]
    }
   ],
   "source": [
    "mean = np.mean(sec_per_chars)\n",
    "std = np.std(sec_per_chars)\n",
    "print(mean)\n",
    "print(std)"
   ]
  },
  {
   "cell_type": "code",
   "execution_count": 18,
   "metadata": {
    "heading_collapsed": "false"
   },
   "outputs": [
    {
     "name": "stdout",
     "output_type": "stream",
     "text": [
      "('../../../freynman/data/downloaded/cut_wavs/the_great_conservation_principles/code_name_250.0_28000.0.wav', '##front [BBC TV Film Leader]', 28, array([-3.0517578e-05, -1.5258789e-05, -3.0517578e-05, ...,\n",
      "        1.0375977e-03,  1.6174316e-03,  2.0751953e-03], dtype=float32), 27.75)\n",
      "('../../../freynman/data/downloaded/cut_wavs/the_great_conservation_principles/code_name_28000.0_82950.0.wav', '##front Credits: Cornell University U.S.A., The Character of Physical Law, Professor Richard Feynman gives the Messenger Lectures', 129, array([0.00234985, 0.00253296, 0.00256348, ..., 0.00079346, 0.00057983,\n",
      "       0.00048828], dtype=float32), 54.95)\n",
      "('../../../freynman/data/downloaded/cut_wavs/the_great_conservation_principles/code_name_83450.0_101296.0.wav', '##Title The Great Conservation Principles', 41, array([0.00123596, 0.00143433, 0.00170898, ..., 0.00112915, 0.00111389,\n",
      "       0.0012207 ], dtype=float32), 17.846)\n",
      "('../../../freynman/data/downloaded/cut_wavs/the_great_conservation_principles/code_name_3279716.0_3363000.0.wav', '#Thank you very much.', 21, array([-0.00085449, -0.00079346, -0.00085449, ...,  0.        ,\n",
      "        0.        ,  0.        ], dtype=float32), 83.284)\n",
      "('../../../freynman/data/downloaded/cut_wavs/the_law_of_gravitation_an_example_of_physical_law/code_name_250.0_33500.0.wav', '##front [BBC TV Film Leader]', 28, array([0.00054932, 0.00048828, 0.00045776, ..., 0.00061035, 0.00074768,\n",
      "       0.00085449], dtype=float32), 33.25)\n",
      "('../../../freynman/data/downloaded/cut_wavs/the_law_of_gravitation_an_example_of_physical_law/code_name_33500.0_90500.0.wav', '##front Credits: Cornell University U.S.A., The Character of Physical Law, Professor Richard Feynman gives the Messenger Lectures', 129, array([8.8500977e-04, 9.1552734e-04, 9.4604492e-04, ..., 2.1362305e-04,\n",
      "       9.1552734e-05, 3.0517578e-05], dtype=float32), 57.0)\n",
      "('../../../freynman/data/downloaded/cut_wavs/the_law_of_gravitation_an_example_of_physical_law/code_name_197486.0_210000.0.wav', 'the equal of whom develops infrequently.\"', 41, array([-0.00360107, -0.00387573, -0.00424194, ...,  0.03146362,\n",
      "        0.03445435,  0.03652954], dtype=float32), 12.514)\n",
      "('../../../freynman/data/downloaded/cut_wavs/the_law_of_gravitation_an_example_of_physical_law/code_name_334516.0_346806.0.wav', 'of lectures in Brazil, but I won’t.', 35, array([-0.00978088, -0.00958252, -0.00900269, ..., -0.00302124,\n",
      "       -0.00318909, -0.00323486], dtype=float32), 12.29)\n",
      "('../../../freynman/data/downloaded/cut_wavs/the_law_of_gravitation_an_example_of_physical_law/code_name_367806.0_385000.0.wav', '##Title The Law of Gravitation: an example of physical law', 58, array([ 0.02478027,  0.01126099, -0.00222778, ...,  0.00053406,\n",
      "        0.00062561,  0.0007019 ], dtype=float32), 17.194)\n",
      "('../../../freynman/data/downloaded/cut_wavs/the_law_of_gravitation_an_example_of_physical_law/code_name_1861626.0_1876816.0.wav', 'well, the administration was different—and they found Neptune.', 62, array([-0.00378418, -0.00393677, -0.00405884, ...,  0.00228882,\n",
      "        0.00216675,  0.0020752 ], dtype=float32), 15.19)\n",
      "('../../../freynman/data/downloaded/cut_wavs/the_law_of_gravitation_an_example_of_physical_law/code_name_3248526.0_3337000.0.wav', '#Thank you.', 11, array([-0.00048828, -0.00059509, -0.0007019 , ...,  0.        ,\n",
      "        0.        ,  0.        ], dtype=float32), 88.474)\n",
      "('../../../freynman/data/downloaded/cut_wavs/the_distiction_of_past_and_future/code_name_250.0_30000.0.wav', '##front [BBC TV Film Leader]', 28, array([-3.0517578e-05, -3.0517578e-05, -3.0517578e-05, ...,\n",
      "        8.5449219e-04,  1.0681152e-03,  1.2207031e-03], dtype=float32), 29.75)\n",
      "('../../../freynman/data/downloaded/cut_wavs/the_distiction_of_past_and_future/code_name_30000.0_86000.0.wav', '##front Credits: Cornell University U.S.A., The Character of Physical Law, Professor Richard Feynman gives the Messenger Lectures', 129, array([0.00137329, 0.00158691, 0.00186157, ..., 0.0080719 , 0.00756836,\n",
      "       0.00701904], dtype=float32), 56.0)\n",
      "('../../../freynman/data/downloaded/cut_wavs/the_distiction_of_past_and_future/code_name_86500.0_98506.0.wav', '##Title The Distinction of Past and Future', 42, array([-0.00016785, -0.00028992, -0.00032043, ..., -0.00160217,\n",
      "       -0.00120544, -0.00090027], dtype=float32), 12.006)\n",
      "('../../../freynman/data/downloaded/cut_wavs/the_distiction_of_past_and_future/code_name_926396.0_934696.0.wav', '#Now...', 7, array([ 0.00094604,  0.00088501,  0.00099182, ..., -0.00042725,\n",
      "       -0.00030518, -0.00024414], dtype=float32), 8.3)\n",
      "('../../../freynman/data/downloaded/cut_wavs/the_distiction_of_past_and_future/code_name_2669856.0_2760000.0.wav', '#Thank you.', 11, array([0.00085449, 0.00059509, 0.00042725, ..., 0.        , 0.        ,\n",
      "       0.        ], dtype=float32), 90.144)\n",
      "('../../../freynman/data/downloaded/cut_wavs/symmetry_in_physical_law/code_name_250.0_33000.0.wav', '##front [BBC TV Film Leader]', 28, array([-1.5258789e-05, -3.0517578e-05, -4.5776367e-05, ...,\n",
      "        2.1362305e-03,  2.3498535e-03,  2.6245117e-03], dtype=float32), 32.75)\n",
      "('../../../freynman/data/downloaded/cut_wavs/symmetry_in_physical_law/code_name_33000.0_87900.0.wav', '##front Credits: Cornell University U.S.A., The Character of Physical Law, Professor Richard Feynman gives the Messenger Lectures', 129, array([0.00286865, 0.00292969, 0.00282288, ..., 0.00556946, 0.00482178,\n",
      "       0.00402832], dtype=float32), 54.9)\n",
      "('../../../freynman/data/downloaded/cut_wavs/symmetry_in_physical_law/code_name_88400.0_109036.0.wav', '##Title Symmetry in Physical Law', 32, array([ 0.0005188 ,  0.00074768,  0.00086975, ..., -0.0189209 ,\n",
      "       -0.01782227, -0.01651001], dtype=float32), 20.636)\n",
      "('../../../freynman/data/downloaded/cut_wavs/symmetry_in_physical_law/code_name_3277406.0_3287546.0.wav', 'but if he puts out his left hand, watch out,', 44, array([-0.00758362, -0.00869751, -0.00984192, ..., -0.16397095,\n",
      "       -0.16697693, -0.1683197 ], dtype=float32), 10.14)\n",
      "('../../../freynman/data/downloaded/cut_wavs/symmetry_in_physical_law/code_name_3287546.0_3300806.0.wav', 'because the two of you will annihilate with each other!', 55, array([-0.1683197 , -0.16725159, -0.16529846, ..., -0.00444031,\n",
      "       -0.00468445, -0.00495911], dtype=float32), 13.26)\n",
      "('../../../freynman/data/downloaded/cut_wavs/symmetry_in_physical_law/code_name_3343376.0_3426000.0.wav', '#Thank you.', 11, array([-0.0020752 , -0.00209045, -0.00210571, ...,  0.        ,\n",
      "        0.        ,  0.        ], dtype=float32), 82.624)\n",
      "('../../../freynman/data/downloaded/cut_wavs/probability_and_uncertainty/code_name_250.0_20000.0.wav', '##front [BBC TV Film Leader]', 28, array([ 0.0000000e+00,  0.0000000e+00,  0.0000000e+00, ...,\n",
      "       -1.8310547e-04,  7.6293945e-05,  3.0517578e-04], dtype=float32), 19.75)\n",
      "('../../../freynman/data/downloaded/cut_wavs/probability_and_uncertainty/code_name_20000.0_75700.0.wav', '##front Credits: Cornell University U.S.A., The Character of Physical Law, Professor Richard Feynman gives the Messenger Lectures', 129, array([0.00032043, 0.00030518, 0.00039673, ..., 0.00350952, 0.00346375,\n",
      "       0.00337219], dtype=float32), 55.7)\n",
      "('../../../freynman/data/downloaded/cut_wavs/probability_and_uncertainty/code_name_263096.0_265576.0.wav', 'so forth.', 9, array([-0.05200195, -0.05117798, -0.05010986, ..., -0.00314331,\n",
      "       -0.00317383, -0.00332642], dtype=float32), 2.48)\n",
      "('../../../freynman/data/downloaded/cut_wavs/probability_and_uncertainty/code_name_1226626.0_1234436.0.wav', 'So I can have any size.', 23, array([-0.00097656, -0.0010376 , -0.00115967, ..., -0.00056458,\n",
      "       -0.00057983, -0.00057983], dtype=float32), 7.81)\n",
      "('../../../freynman/data/downloaded/cut_wavs/probability_and_uncertainty/code_name_1653196.0_1661356.0.wav', 'This is what we get for N-1-2.', 30, array([-0.00088501, -0.00109863, -0.00131226, ..., -0.00473022,\n",
      "       -0.00576782, -0.00674438], dtype=float32), 8.16)\n",
      "('../../../freynman/data/downloaded/cut_wavs/probability_and_uncertainty/code_name_1747766.0_1757276.0.wav', '#Now, we would like to analyze this curve.', 42, array([ 0.00125122,  0.00119019,  0.00125122, ..., -0.04907227,\n",
      "       -0.04580688, -0.04187012], dtype=float32), 9.51)\n",
      "('../../../freynman/data/downloaded/cut_wavs/probability_and_uncertainty/code_name_3302246.0_3392000.0.wav', '#Thank you.', 11, array([0.00123596, 0.0009613 , 0.00082397, ..., 0.        , 0.        ,\n",
      "       0.        ], dtype=float32), 89.754)\n",
      "('../../../freynman/data/downloaded/cut_wavs/seeking_new_laws/code_name_250.0_22000.0.wav', '##front [BBC TV Film Leader]', 28, array([-3.0517578e-05, -3.0517578e-05, -1.5258789e-05, ...,\n",
      "       -7.6293945e-04, -7.3242188e-04, -6.7138672e-04], dtype=float32), 21.75)\n",
      "('../../../freynman/data/downloaded/cut_wavs/seeking_new_laws/code_name_22000.0_77700.0.wav', '##front Credits: Cornell University U.S.A., The Character of Physical Law, Professor Richard Feynman gives the Messenger Lectures', 129, array([-0.00054932, -0.00048828, -0.00061035, ...,  0.00280762,\n",
      "        0.00222778,  0.00170898], dtype=float32), 55.7)\n",
      "('../../../freynman/data/downloaded/cut_wavs/seeking_new_laws/code_name_78200.0_95986.0.wav', '##Title Seeking New Laws', 24, array([-0.00216675, -0.00205994, -0.00184631, ..., -0.00733948,\n",
      "        0.01115417,  0.02632141], dtype=float32), 17.786)\n",
      "('../../../freynman/data/downloaded/cut_wavs/seeking_new_laws/code_name_3391666.0_3476000.0.wav', '#Thank you very much.', 21, array([0.00125122, 0.00132751, 0.00132751, ..., 0.        , 0.        ,\n",
      "       0.        ], dtype=float32), 84.334)\n",
      "('../../../freynman/data/downloaded/cut_wavs/the_relation_of_mathematics_and_physics/code_name_250.0_20000.0.wav', '##front [BBC TV Film Leader]', 28, array([0.00057983, 0.00076294, 0.00088501, ..., 0.00372314, 0.00390625,\n",
      "       0.00402832], dtype=float32), 19.75)\n",
      "('../../../freynman/data/downloaded/cut_wavs/the_relation_of_mathematics_and_physics/code_name_20000.0_75700.0.wav', '##front Credits: Cornell University U.S.A., The Character of Physical Law, Professor Richard Feynman gives the Messenger Lectures', 129, array([0.00408936, 0.00393677, 0.00366211, ..., 0.0017395 , 0.00177002,\n",
      "       0.00183105], dtype=float32), 55.7)\n",
      "('../../../freynman/data/downloaded/cut_wavs/the_relation_of_mathematics_and_physics/code_name_76200.0_89876.0.wav', '##Title The Relation of Mathematics and Physics', 47, array([-0.00079346, -0.00067139, -0.00045776, ..., -0.01211548,\n",
      "       -0.01080322, -0.00875854], dtype=float32), 13.676)\n",
      "('../../../freynman/data/downloaded/cut_wavs/the_relation_of_mathematics_and_physics/code_name_2872476.0_2891476.0.wav', 'when you wanted to tell me about the four dimensions...\"', 56, array([-1.5258789e-05, -3.0517578e-05, -1.2207031e-04, ...,\n",
      "        1.8005371e-03,  1.5563965e-03,  1.2817383e-03], dtype=float32), 19.0)\n",
      "('../../../freynman/data/downloaded/cut_wavs/the_relation_of_mathematics_and_physics/code_name_3240756.0_3333000.0.wav', '#Thank you.', 11, array([-0.00112915, -0.00138855, -0.00161743, ...,  0.        ,\n",
      "        0.        ,  0.        ], dtype=float32), 92.236)\n"
     ]
    }
   ],
   "source": [
    "dist = norm(mean, std)\n",
    "\n",
    "# find irregular instances long or short voice durations\n",
    "for item in data:\n",
    "    text = item[1]\n",
    "    dur = item[-1]\n",
    "    sec_per_char = dur / len(text)\n",
    "    pdf =norm.pdf(sec_per_char)\n",
    "    if pdf < 0.39:\n",
    "        print(item)"
   ]
  },
  {
   "cell_type": "markdown",
   "metadata": {},
   "source": [
    "### Plot Dataset Statistics"
   ]
  },
  {
   "cell_type": "code",
   "execution_count": 19,
   "metadata": {
    "heading_collapsed": "false"
   },
   "outputs": [
    {
     "data": {
      "text/plain": [
       "<matplotlib.collections.PathCollection at 0x7fd9db9d11f0>"
      ]
     },
     "execution_count": 19,
     "metadata": {},
     "output_type": "execute_result"
    },
    {
     "data": {
      "image/png": "[encoded data removed]",
      "text/plain": [
       "<Figure size 432x288 with 1 Axes>"
      ]
     },
     "metadata": {
      "needs_background": "light"
     },
     "output_type": "display_data"
    }
   ],
   "source": [
    "plt.title(\"text length vs mean audio duration\")\n",
    "plt.scatter(list(text_vs_avg.keys()), list(text_vs_avg.values()))"
   ]
  },
  {
   "cell_type": "code",
   "execution_count": 20,
   "metadata": {
    "heading_collapsed": "false"
   },
   "outputs": [
    {
     "data": {
      "text/plain": [
       "<matplotlib.collections.PathCollection at 0x7fdb2133e6a0>"
      ]
     },
     "execution_count": 20,
     "metadata": {},
     "output_type": "execute_result"
    },
    {
     "data": {
      "image/png": "[encoded data removed]",
      "text/plain": [
       "<Figure size 432x288 with 1 Axes>"
      ]
     },
     "metadata": {
      "needs_background": "light"
     },
     "output_type": "display_data"
    }
   ],
   "source": [
    "plt.title(\"text length vs median audio duration\")\n",
    "plt.scatter(list(text_vs_median.keys()), list(text_vs_median.values()))"
   ]
  },
  {
   "cell_type": "code",
   "execution_count": 21,
   "metadata": {
    "heading_collapsed": "false"
   },
   "outputs": [
    {
     "data": {
      "text/plain": [
       "<matplotlib.collections.PathCollection at 0x7fdb201c6f10>"
      ]
     },
     "execution_count": 21,
     "metadata": {},
     "output_type": "execute_result"
    },
    {
     "data": {
      "image/png": "[encoded data removed]",
      "text/plain": [
       "<Figure size 432x288 with 1 Axes>"
      ]
     },
     "metadata": {
      "needs_background": "light"
     },
     "output_type": "display_data"
    }
   ],
   "source": [
    "plt.title(\"text length vs STD\")\n",
    "plt.scatter(list(text_vs_std.keys()), list(text_vs_std.values()))"
   ]
  },
  {
   "cell_type": "code",
   "execution_count": 22,
   "metadata": {
    "heading_collapsed": "false"
   },
   "outputs": [
    {
     "data": {
      "text/plain": [
       "<matplotlib.collections.PathCollection at 0x7fdb2221a070>"
      ]
     },
     "execution_count": 22,
     "metadata": {},
     "output_type": "execute_result"
    },
    {
     "data": {
      "image/png": "[encoded data removed]",
      "text/plain": [
       "<Figure size 432x288 with 1 Axes>"
      ]
     },
     "metadata": {
      "needs_background": "light"
     },
     "output_type": "display_data"
    }
   ],
   "source": [
    "plt.title(\"text length vs # instances\")\n",
    "plt.scatter(list(text_len_counter.keys()), list(text_len_counter.values()))"
   ]
  },
  {
   "cell_type": "markdown",
   "metadata": {},
   "source": [
    "### Check words frequencies"
   ]
  },
  {
   "cell_type": "code",
   "execution_count": 23,
   "metadata": {
    "heading_collapsed": "false"
   },
   "outputs": [],
   "source": [
    "w_count_df = pd.DataFrame.from_dict(w_count, orient='index')\n",
    "w_count_df.sort_values(0, ascending=False, inplace=True)"
   ]
  },
  {
   "cell_type": "code",
   "execution_count": 27,
   "metadata": {
    "heading_collapsed": "false",
    "tags": []
   },
   "outputs": [
    {
     "data": {
      "text/html": [
       "<div>\n",
       "<style scoped>\n",
       "    .dataframe tbody tr th:only-of-type {\n",
       "        vertical-align: middle;\n",
       "    }\n",
       "\n",
       "    .dataframe tbody tr th {\n",
       "        vertical-align: top;\n",
       "    }\n",
       "\n",
       "    .dataframe thead th {\n",
       "        text-align: right;\n",
       "    }\n",
       "</style>\n",
       "<table border=\"1\" class=\"dataframe\">\n",
       "  <thead>\n",
       "    <tr style=\"text-align: right;\">\n",
       "      <th></th>\n",
       "      <th>0</th>\n",
       "    </tr>\n",
       "  </thead>\n",
       "  <tbody>\n",
       "    <tr>\n",
       "      <th>the</th>\n",
       "      <td>4326</td>\n",
       "    </tr>\n",
       "    <tr>\n",
       "      <th>of</th>\n",
       "      <td>1934</td>\n",
       "    </tr>\n",
       "    <tr>\n",
       "      <th>that</th>\n",
       "      <td>1512</td>\n",
       "    </tr>\n",
       "    <tr>\n",
       "      <th>and</th>\n",
       "      <td>1496</td>\n",
       "    </tr>\n",
       "    <tr>\n",
       "      <th>to</th>\n",
       "      <td>1482</td>\n",
       "    </tr>\n",
       "    <tr>\n",
       "      <th>a</th>\n",
       "      <td>1436</td>\n",
       "    </tr>\n",
       "    <tr>\n",
       "      <th>is</th>\n",
       "      <td>1153</td>\n",
       "    </tr>\n",
       "    <tr>\n",
       "      <th>in</th>\n",
       "      <td>1131</td>\n",
       "    </tr>\n",
       "    <tr>\n",
       "      <th>it</th>\n",
       "      <td>939</td>\n",
       "    </tr>\n",
       "    <tr>\n",
       "      <th>you</th>\n",
       "      <td>785</td>\n",
       "    </tr>\n",
       "    <tr>\n",
       "      <th>we</th>\n",
       "      <td>707</td>\n",
       "    </tr>\n",
       "    <tr>\n",
       "      <th>this</th>\n",
       "      <td>592</td>\n",
       "    </tr>\n",
       "    <tr>\n",
       "      <th>i</th>\n",
       "      <td>537</td>\n",
       "    </tr>\n",
       "    <tr>\n",
       "      <th>if</th>\n",
       "      <td>472</td>\n",
       "    </tr>\n",
       "    <tr>\n",
       "      <th>are</th>\n",
       "      <td>430</td>\n",
       "    </tr>\n",
       "    <tr>\n",
       "      <th>which</th>\n",
       "      <td>393</td>\n",
       "    </tr>\n",
       "    <tr>\n",
       "      <th>it’s</th>\n",
       "      <td>391</td>\n",
       "    </tr>\n",
       "    <tr>\n",
       "      <th>have</th>\n",
       "      <td>390</td>\n",
       "    </tr>\n",
       "    <tr>\n",
       "      <th>so</th>\n",
       "      <td>390</td>\n",
       "    </tr>\n",
       "    <tr>\n",
       "      <th>one</th>\n",
       "      <td>387</td>\n",
       "    </tr>\n",
       "  </tbody>\n",
       "</table>\n",
       "</div>"
      ],
      "text/plain": [
       "          0\n",
       "the    4326\n",
       "of     1934\n",
       "that   1512\n",
       "and    1496\n",
       "to     1482\n",
       "a      1436\n",
       "is     1153\n",
       "in     1131\n",
       "it      939\n",
       "you     785\n",
       "we      707\n",
       "this    592\n",
       "i       537\n",
       "if      472\n",
       "are     430\n",
       "which   393\n",
       "it’s    391\n",
       "have    390\n",
       "so      390\n",
       "one     387"
      ]
     },
     "execution_count": 27,
     "metadata": {},
     "output_type": "execute_result"
    }
   ],
   "source": [
    "w_count_df.head(20)"
   ]
  },
  {
   "cell_type": "code",
   "execution_count": null,
   "metadata": {},
   "outputs": [],
   "source": []
  }
 ],
 "metadata": {
  "kernelspec": {
   "display_name": "Python 3",
   "language": "python",
   "name": "python3"
  },
  "language_info": {
   "codemirror_mode": {
    "name": "ipython",
    "version": 3
   },
   "file_extension": ".py",
   "mimetype": "text/x-python",
   "name": "python",
   "nbconvert_exporter": "python",
   "pygments_lexer": "ipython3",
   "version": "3.8.8"
  }
 },
 "nbformat": 4,
 "nbformat_minor": 4
}
